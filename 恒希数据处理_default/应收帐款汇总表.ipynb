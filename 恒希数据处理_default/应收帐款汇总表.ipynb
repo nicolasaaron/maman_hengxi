{
 "cells": [
  {
   "cell_type": "code",
   "execution_count": 2,
   "metadata": {
    "collapsed": false
   },
   "outputs": [
    {
     "data": {
      "text/plain": [
       "array(['单据', '客户', 'Unnamed: 2', 'Unnamed: 3', 'Unnamed: 4', '统计',\n",
       "       'Unnamed: 6', 'Unnamed: 7', 'Unnamed: 8', 'Unnamed: 9'], dtype=object)"
      ]
     },
     "execution_count": 2,
     "metadata": {},
     "output_type": "execute_result"
    }
   ],
   "source": [
    "import numpy as np\n",
    "import pandas as pd\n",
    "import xlrd\n",
    "import openpyxl\n",
    "\n",
    "import os\n",
    "folder_name = '应收帐款汇总表/'\n",
    "if not os.path.exists(folder_name):\n",
    "    os.makedirs(folder_name)\n",
    "\n",
    "month_name = '应收帐款汇总表'\n",
    "input_filename = month_name +'.xls'\n",
    "output_filename = folder_name + month_name+ '_添加类别.xlsx'\n",
    "\n",
    "#df = pd.read_excel(input_filename, sheetname ='应收帐款汇总表3月')\n",
    "df = pd.read_excel(input_filename, sheet_name =0)\n",
    "df.columns.values"
   ]
  },
  {
   "cell_type": "code",
   "execution_count": 3,
   "metadata": {
    "collapsed": false
   },
   "outputs": [
    {
     "name": "stdout",
     "output_type": "stream",
     "text": [
      "单据               公司\n",
      "客户               区域\n",
      "Unnamed: 2      业务员\n",
      "Unnamed: 3       编号\n",
      "Unnamed: 4       名称\n",
      "统计             期初余额\n",
      "Unnamed: 6     本期增加\n",
      "Unnamed: 7     本期减小\n",
      "Unnamed: 8     期末余额\n",
      "Unnamed: 9    保证金余额\n",
      "Name: 0, dtype: object\n",
      "Index(['Unnamed: 4'], dtype='object')\n",
      "Index(['Unnamed: 6'], dtype='object')\n"
     ]
    }
   ],
   "source": [
    "names = df.loc[0]\n",
    "print(names)\n",
    "print(names[names == '名称'].index)\n",
    "print(names[names == '本期增加'].index)"
   ]
  },
  {
   "cell_type": "code",
   "execution_count": 4,
   "metadata": {
    "collapsed": false
   },
   "outputs": [
    {
     "name": "stdout",
     "output_type": "stream",
     "text": [
      "['公司' '区域' '业务员' '编号' '名称' '期初余额' '本期增加' '本期减小' '期末余额' '保证金余额']\n"
     ]
    },
    {
     "data": {
      "text/html": [
       "<div>\n",
       "<style scoped>\n",
       "    .dataframe tbody tr th:only-of-type {\n",
       "        vertical-align: middle;\n",
       "    }\n",
       "\n",
       "    .dataframe tbody tr th {\n",
       "        vertical-align: top;\n",
       "    }\n",
       "\n",
       "    .dataframe thead th {\n",
       "        text-align: right;\n",
       "    }\n",
       "</style>\n",
       "<table border=\"1\" class=\"dataframe\">\n",
       "  <thead>\n",
       "    <tr style=\"text-align: right;\">\n",
       "      <th></th>\n",
       "      <th>名称</th>\n",
       "      <th>本期增加</th>\n",
       "    </tr>\n",
       "  </thead>\n",
       "  <tbody>\n",
       "    <tr>\n",
       "      <th>0</th>\n",
       "      <td>名称</td>\n",
       "      <td>本期增加</td>\n",
       "    </tr>\n",
       "    <tr>\n",
       "      <th>5</th>\n",
       "      <td>佛岗安基建材</td>\n",
       "      <td>1248</td>\n",
       "    </tr>\n",
       "    <tr>\n",
       "      <th>8</th>\n",
       "      <td>置地裕万陶钟生</td>\n",
       "      <td>1767.6</td>\n",
       "    </tr>\n",
       "    <tr>\n",
       "      <th>27</th>\n",
       "      <td>怀集大成岗金瑞宝</td>\n",
       "      <td>16181.6</td>\n",
       "    </tr>\n",
       "    <tr>\n",
       "      <th>29</th>\n",
       "      <td>中山德田建材</td>\n",
       "      <td>407.2</td>\n",
       "    </tr>\n",
       "  </tbody>\n",
       "</table>\n",
       "</div>"
      ],
      "text/plain": [
       "0         名称     本期增加\n",
       "0         名称     本期增加\n",
       "5     佛岗安基建材     1248\n",
       "8    置地裕万陶钟生   1767.6\n",
       "27  怀集大成岗金瑞宝  16181.6\n",
       "29    中山德田建材    407.2"
      ]
     },
     "execution_count": 4,
     "metadata": {},
     "output_type": "execute_result"
    }
   ],
   "source": [
    "df.columns = df.iloc[0,:]\n",
    "print(df.columns.values)\n",
    "\n",
    "df2 = df[ df['本期增加'] != 0]\n",
    "df2 = df2[ ['名称','本期增加'] ]\n",
    "df2.head()"
   ]
  },
  {
   "cell_type": "code",
   "execution_count": 5,
   "metadata": {
    "collapsed": false
   },
   "outputs": [
    {
     "name": "stderr",
     "output_type": "stream",
     "text": [
      "C:\\Users\\iris\\Anaconda3\\lib\\site-packages\\ipykernel\\__main__.py:3: FutureWarning: set_value is deprecated and will be removed in a future release. Please use .at[] or .iat[] accessors instead\n",
      "  app.launch_new_instance()\n"
     ]
    }
   ],
   "source": [
    "df2.set_index('名称',inplace=True)\n",
    "df2.reset_index(inplace=True)\n",
    "df2.set_value(df2.shape[0]-1, '名称', '总计')\n",
    "df2.drop([0],axis=0,inplace=True)\n",
    "df2.index.names=['序号']\n"
   ]
  },
  {
   "cell_type": "code",
   "execution_count": 6,
   "metadata": {
    "collapsed": false
   },
   "outputs": [
    {
     "data": {
      "text/html": [
       "<div>\n",
       "<style scoped>\n",
       "    .dataframe tbody tr th:only-of-type {\n",
       "        vertical-align: middle;\n",
       "    }\n",
       "\n",
       "    .dataframe tbody tr th {\n",
       "        vertical-align: top;\n",
       "    }\n",
       "\n",
       "    .dataframe thead th {\n",
       "        text-align: right;\n",
       "    }\n",
       "</style>\n",
       "<table border=\"1\" class=\"dataframe\">\n",
       "  <thead>\n",
       "    <tr style=\"text-align: right;\">\n",
       "      <th></th>\n",
       "      <th>名称</th>\n",
       "      <th>本期增加</th>\n",
       "    </tr>\n",
       "    <tr>\n",
       "      <th>序号</th>\n",
       "      <th></th>\n",
       "      <th></th>\n",
       "    </tr>\n",
       "  </thead>\n",
       "  <tbody>\n",
       "    <tr>\n",
       "      <th>1</th>\n",
       "      <td>佛岗安基建材</td>\n",
       "      <td>1248</td>\n",
       "    </tr>\n",
       "    <tr>\n",
       "      <th>2</th>\n",
       "      <td>置地裕万陶钟生</td>\n",
       "      <td>1767.6</td>\n",
       "    </tr>\n",
       "    <tr>\n",
       "      <th>3</th>\n",
       "      <td>怀集大成岗金瑞宝</td>\n",
       "      <td>16181.6</td>\n",
       "    </tr>\n",
       "    <tr>\n",
       "      <th>4</th>\n",
       "      <td>中山德田建材</td>\n",
       "      <td>407.2</td>\n",
       "    </tr>\n",
       "    <tr>\n",
       "      <th>5</th>\n",
       "      <td>佛山阿婷</td>\n",
       "      <td>41485.4</td>\n",
       "    </tr>\n",
       "  </tbody>\n",
       "</table>\n",
       "</div>"
      ],
      "text/plain": [
       "0         名称     本期增加\n",
       "序号                   \n",
       "1     佛岗安基建材     1248\n",
       "2    置地裕万陶钟生   1767.6\n",
       "3   怀集大成岗金瑞宝  16181.6\n",
       "4     中山德田建材    407.2\n",
       "5       佛山阿婷  41485.4"
      ]
     },
     "execution_count": 6,
     "metadata": {},
     "output_type": "execute_result"
    }
   ],
   "source": [
    "df2.head()"
   ]
  },
  {
   "cell_type": "code",
   "execution_count": 7,
   "metadata": {
    "collapsed": false
   },
   "outputs": [
    {
     "data": {
      "text/html": [
       "<div>\n",
       "<style scoped>\n",
       "    .dataframe tbody tr th:only-of-type {\n",
       "        vertical-align: middle;\n",
       "    }\n",
       "\n",
       "    .dataframe tbody tr th {\n",
       "        vertical-align: top;\n",
       "    }\n",
       "\n",
       "    .dataframe thead th {\n",
       "        text-align: right;\n",
       "    }\n",
       "</style>\n",
       "<table border=\"1\" class=\"dataframe\">\n",
       "  <thead>\n",
       "    <tr style=\"text-align: right;\">\n",
       "      <th></th>\n",
       "      <th>名称</th>\n",
       "      <th>本期增加</th>\n",
       "    </tr>\n",
       "    <tr>\n",
       "      <th>序号</th>\n",
       "      <th></th>\n",
       "      <th></th>\n",
       "    </tr>\n",
       "  </thead>\n",
       "  <tbody>\n",
       "    <tr>\n",
       "      <th>206</th>\n",
       "      <td>河源余作舟</td>\n",
       "      <td>5427.9</td>\n",
       "    </tr>\n",
       "    <tr>\n",
       "      <th>207</th>\n",
       "      <td>郁南尚家设计</td>\n",
       "      <td>1860</td>\n",
       "    </tr>\n",
       "    <tr>\n",
       "      <th>208</th>\n",
       "      <td>惠州白兔陶瓷</td>\n",
       "      <td>1370.7</td>\n",
       "    </tr>\n",
       "    <tr>\n",
       "      <th>209</th>\n",
       "      <td>澳琪腰线厂B（发外加工）</td>\n",
       "      <td>8452.5</td>\n",
       "    </tr>\n",
       "    <tr>\n",
       "      <th>210</th>\n",
       "      <td>总计</td>\n",
       "      <td>2.17586e+06</td>\n",
       "    </tr>\n",
       "  </tbody>\n",
       "</table>\n",
       "</div>"
      ],
      "text/plain": [
       "0              名称         本期增加\n",
       "序号                            \n",
       "206         河源余作舟       5427.9\n",
       "207        郁南尚家设计         1860\n",
       "208        惠州白兔陶瓷       1370.7\n",
       "209  澳琪腰线厂B（发外加工）       8452.5\n",
       "210            总计  2.17586e+06"
      ]
     },
     "execution_count": 7,
     "metadata": {},
     "output_type": "execute_result"
    }
   ],
   "source": [
    "df2.tail()"
   ]
  },
  {
   "cell_type": "code",
   "execution_count": 8,
   "metadata": {
    "collapsed": true
   },
   "outputs": [],
   "source": [
    "writer = pd.ExcelWriter(output_filename) #creates instance of an excel workboo\n",
    "df2.to_excel(writer,'sheet1') #creates workbook \n",
    "writer.save() #saves workbook to file in python file directory"
   ]
  },
  {
   "cell_type": "code",
   "execution_count": 9,
   "metadata": {
    "collapsed": false
   },
   "outputs": [
    {
     "name": "stdout",
     "output_type": "stream",
     "text": [
      "success\n"
     ]
    }
   ],
   "source": [
    "print('success')"
   ]
  },
  {
   "cell_type": "code",
   "execution_count": null,
   "metadata": {
    "collapsed": true
   },
   "outputs": [],
   "source": []
  }
 ],
 "metadata": {
  "kernelspec": {
   "display_name": "Python 3",
   "language": "python",
   "name": "python3"
  },
  "language_info": {
   "codemirror_mode": {
    "name": "ipython",
    "version": 3
   },
   "file_extension": ".py",
   "mimetype": "text/x-python",
   "name": "python",
   "nbconvert_exporter": "python",
   "pygments_lexer": "ipython3",
   "version": "3.6.0"
  }
 },
 "nbformat": 4,
 "nbformat_minor": 2
}
