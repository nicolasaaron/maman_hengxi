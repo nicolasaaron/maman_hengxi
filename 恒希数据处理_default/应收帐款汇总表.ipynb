{
 "cells": [
  {
   "cell_type": "code",
   "execution_count": 1,
   "metadata": {
    "collapsed": false
   },
   "outputs": [
    {
     "data": {
      "text/plain": [
       "array(['单据', '客户', 'Unnamed: 2', 'Unnamed: 3', 'Unnamed: 4', '统计',\n",
       "       'Unnamed: 6', 'Unnamed: 7', 'Unnamed: 8', 'Unnamed: 9'], dtype=object)"
      ]
     },
     "execution_count": 1,
     "metadata": {},
     "output_type": "execute_result"
    }
   ],
   "source": [
    "import numpy as np\n",
    "import pandas as pd\n",
    "import xlrd\n",
    "import openpyxl\n",
    "\n",
    "import os\n",
    "folder_name = '应收帐款汇总表/'\n",
    "if not os.path.exists(folder_name):\n",
    "    os.makedirs(folder_name)\n",
    "\n",
    "type_name = '应收帐款汇总表'\n",
    "input_filename = type_name +'.xls'\n",
    "output_filename = folder_name + type_name+'_本期增加.xlsx'\n",
    "\n",
    "#df = pd.read_excel(input_filename, sheet_name ='应收帐款汇总表4月')\n",
    "df = pd.read_excel(input_filename, sheet_name =0)\n",
    "df.columns.values"
   ]
  },
  {
   "cell_type": "code",
   "execution_count": 2,
   "metadata": {
    "collapsed": false
   },
   "outputs": [
    {
     "name": "stdout",
     "output_type": "stream",
     "text": [
      "单据               公司\n",
      "客户               区域\n",
      "Unnamed: 2      业务员\n",
      "Unnamed: 3       编号\n",
      "Unnamed: 4       名称\n",
      "统计             期初余额\n",
      "Unnamed: 6     本期增加\n",
      "Unnamed: 7     本期减小\n",
      "Unnamed: 8     期末余额\n",
      "Unnamed: 9    保证金余额\n",
      "Name: 0, dtype: object\n",
      "Index(['Unnamed: 4'], dtype='object')\n",
      "Index(['Unnamed: 6'], dtype='object')\n"
     ]
    }
   ],
   "source": [
    "names = df.loc[0]\n",
    "print(names)\n",
    "print(names[names == '名称'].index)\n",
    "print(names[names == '本期增加'].index)"
   ]
  },
  {
   "cell_type": "code",
   "execution_count": 3,
   "metadata": {
    "collapsed": false
   },
   "outputs": [
    {
     "name": "stdout",
     "output_type": "stream",
     "text": [
      "['公司' '区域' '业务员' '编号' '名称' '期初余额' '本期增加' '本期减小' '期末余额' '保证金余额']\n"
     ]
    },
    {
     "data": {
      "text/html": [
       "<div>\n",
       "<style scoped>\n",
       "    .dataframe tbody tr th:only-of-type {\n",
       "        vertical-align: middle;\n",
       "    }\n",
       "\n",
       "    .dataframe tbody tr th {\n",
       "        vertical-align: top;\n",
       "    }\n",
       "\n",
       "    .dataframe thead th {\n",
       "        text-align: right;\n",
       "    }\n",
       "</style>\n",
       "<table border=\"1\" class=\"dataframe\">\n",
       "  <thead>\n",
       "    <tr style=\"text-align: right;\">\n",
       "      <th></th>\n",
       "      <th>名称</th>\n",
       "      <th>本期增加</th>\n",
       "    </tr>\n",
       "  </thead>\n",
       "  <tbody>\n",
       "    <tr>\n",
       "      <th>0</th>\n",
       "      <td>名称</td>\n",
       "      <td>本期增加</td>\n",
       "    </tr>\n",
       "    <tr>\n",
       "      <th>2</th>\n",
       "      <td>佛山威宜斯</td>\n",
       "      <td>23080</td>\n",
       "    </tr>\n",
       "    <tr>\n",
       "      <th>5</th>\n",
       "      <td>佛岗安基建材</td>\n",
       "      <td>70.4</td>\n",
       "    </tr>\n",
       "    <tr>\n",
       "      <th>8</th>\n",
       "      <td>置地裕万陶钟生</td>\n",
       "      <td>1065.6</td>\n",
       "    </tr>\n",
       "    <tr>\n",
       "      <th>27</th>\n",
       "      <td>怀集大成岗金瑞宝</td>\n",
       "      <td>11519.4</td>\n",
       "    </tr>\n",
       "  </tbody>\n",
       "</table>\n",
       "</div>"
      ],
      "text/plain": [
       "0         名称     本期增加\n",
       "0         名称     本期增加\n",
       "2      佛山威宜斯    23080\n",
       "5     佛岗安基建材     70.4\n",
       "8    置地裕万陶钟生   1065.6\n",
       "27  怀集大成岗金瑞宝  11519.4"
      ]
     },
     "execution_count": 3,
     "metadata": {},
     "output_type": "execute_result"
    }
   ],
   "source": [
    "df.columns = df.iloc[0,:]\n",
    "print(df.columns.values)\n",
    "\n",
    "df2 = df[ df['本期增加'] != 0]\n",
    "df2 = df2[ ['名称','本期增加'] ]\n",
    "df2.head()"
   ]
  },
  {
   "cell_type": "code",
   "execution_count": 4,
   "metadata": {
    "collapsed": false
   },
   "outputs": [],
   "source": [
    "df2.set_index('名称',inplace=True)\n",
    "df2.reset_index(inplace=True)\n",
    "#df2.set_value(df2.shape[0]-1, '名称', '总计')\n",
    "df2.iat[df2.shape[0]-1,0] ='总计'\n",
    "df2.drop([0],axis=0,inplace=True)\n",
    "df2.index.names=['序号']\n"
   ]
  },
  {
   "cell_type": "code",
   "execution_count": 5,
   "metadata": {
    "collapsed": false
   },
   "outputs": [
    {
     "data": {
      "text/html": [
       "<div>\n",
       "<style scoped>\n",
       "    .dataframe tbody tr th:only-of-type {\n",
       "        vertical-align: middle;\n",
       "    }\n",
       "\n",
       "    .dataframe tbody tr th {\n",
       "        vertical-align: top;\n",
       "    }\n",
       "\n",
       "    .dataframe thead th {\n",
       "        text-align: right;\n",
       "    }\n",
       "</style>\n",
       "<table border=\"1\" class=\"dataframe\">\n",
       "  <thead>\n",
       "    <tr style=\"text-align: right;\">\n",
       "      <th></th>\n",
       "      <th>名称</th>\n",
       "      <th>本期增加</th>\n",
       "    </tr>\n",
       "    <tr>\n",
       "      <th>序号</th>\n",
       "      <th></th>\n",
       "      <th></th>\n",
       "    </tr>\n",
       "  </thead>\n",
       "  <tbody>\n",
       "    <tr>\n",
       "      <th>1</th>\n",
       "      <td>佛山威宜斯</td>\n",
       "      <td>23080</td>\n",
       "    </tr>\n",
       "    <tr>\n",
       "      <th>2</th>\n",
       "      <td>佛岗安基建材</td>\n",
       "      <td>70.4</td>\n",
       "    </tr>\n",
       "    <tr>\n",
       "      <th>3</th>\n",
       "      <td>置地裕万陶钟生</td>\n",
       "      <td>1065.6</td>\n",
       "    </tr>\n",
       "    <tr>\n",
       "      <th>4</th>\n",
       "      <td>怀集大成岗金瑞宝</td>\n",
       "      <td>11519.4</td>\n",
       "    </tr>\n",
       "    <tr>\n",
       "      <th>5</th>\n",
       "      <td>湛江坡头金尊玉</td>\n",
       "      <td>8388.1</td>\n",
       "    </tr>\n",
       "  </tbody>\n",
       "</table>\n",
       "</div>"
      ],
      "text/plain": [
       "0         名称     本期增加\n",
       "序号                   \n",
       "1      佛山威宜斯    23080\n",
       "2     佛岗安基建材     70.4\n",
       "3    置地裕万陶钟生   1065.6\n",
       "4   怀集大成岗金瑞宝  11519.4\n",
       "5    湛江坡头金尊玉   8388.1"
      ]
     },
     "execution_count": 5,
     "metadata": {},
     "output_type": "execute_result"
    }
   ],
   "source": [
    "df2.head()"
   ]
  },
  {
   "cell_type": "code",
   "execution_count": 6,
   "metadata": {
    "collapsed": false
   },
   "outputs": [
    {
     "data": {
      "text/html": [
       "<div>\n",
       "<style scoped>\n",
       "    .dataframe tbody tr th:only-of-type {\n",
       "        vertical-align: middle;\n",
       "    }\n",
       "\n",
       "    .dataframe tbody tr th {\n",
       "        vertical-align: top;\n",
       "    }\n",
       "\n",
       "    .dataframe thead th {\n",
       "        text-align: right;\n",
       "    }\n",
       "</style>\n",
       "<table border=\"1\" class=\"dataframe\">\n",
       "  <thead>\n",
       "    <tr style=\"text-align: right;\">\n",
       "      <th></th>\n",
       "      <th>名称</th>\n",
       "      <th>本期增加</th>\n",
       "    </tr>\n",
       "    <tr>\n",
       "      <th>序号</th>\n",
       "      <th></th>\n",
       "      <th></th>\n",
       "    </tr>\n",
       "  </thead>\n",
       "  <tbody>\n",
       "    <tr>\n",
       "      <th>222</th>\n",
       "      <td>郁南尚家设计</td>\n",
       "      <td>1598</td>\n",
       "    </tr>\n",
       "    <tr>\n",
       "      <th>223</th>\n",
       "      <td>惠州白兔陶瓷</td>\n",
       "      <td>4271.9</td>\n",
       "    </tr>\n",
       "    <tr>\n",
       "      <th>224</th>\n",
       "      <td>澳琪腰线厂B（发外加工）</td>\n",
       "      <td>5796</td>\n",
       "    </tr>\n",
       "    <tr>\n",
       "      <th>225</th>\n",
       "      <td>佛山市龙御天进出口有限公司</td>\n",
       "      <td>34361.2</td>\n",
       "    </tr>\n",
       "    <tr>\n",
       "      <th>226</th>\n",
       "      <td>总计</td>\n",
       "      <td>2.57757e+06</td>\n",
       "    </tr>\n",
       "  </tbody>\n",
       "</table>\n",
       "</div>"
      ],
      "text/plain": [
       "0               名称         本期增加\n",
       "序号                             \n",
       "222         郁南尚家设计         1598\n",
       "223         惠州白兔陶瓷       4271.9\n",
       "224   澳琪腰线厂B（发外加工）         5796\n",
       "225  佛山市龙御天进出口有限公司      34361.2\n",
       "226             总计  2.57757e+06"
      ]
     },
     "execution_count": 6,
     "metadata": {},
     "output_type": "execute_result"
    }
   ],
   "source": [
    "df2.tail()"
   ]
  },
  {
   "cell_type": "code",
   "execution_count": 7,
   "metadata": {
    "collapsed": false
   },
   "outputs": [],
   "source": [
    "writer = pd.ExcelWriter(output_filename) #creates instance of an excel workboo\n",
    "df2.to_excel(writer,startrow = 1, sheet_name= 'sheet1') #creates workbook\n",
    "\n",
    "# handle the spreadsheet format\n",
    "workbook = writer.book\n",
    "worksheet = writer.sheets['sheet1']      \n",
    "percent_fmt = workbook.add_format({'num_format': '0.00'})\n",
    "worksheet.set_column('C:C', None, percent_fmt)\n",
    "\n",
    "header_format = workbook.add_format({'bold': True,'text_wrap': True,\n",
    "                                             'align': 'center',\n",
    "                                             'valign': 'vcenter',\n",
    "                                             'fg_color': '#D7E4BC', 'border': 1})\n",
    "worksheet.merge_range('A1:C1','应收账款汇总',header_format)        \n",
    "\n",
    "\n",
    "\n",
    "writer.save() #saves workbook to file in python file directory"
   ]
  },
  {
   "cell_type": "code",
   "execution_count": 8,
   "metadata": {
    "collapsed": false
   },
   "outputs": [
    {
     "name": "stdout",
     "output_type": "stream",
     "text": [
      "success\n"
     ]
    }
   ],
   "source": [
    "print('success')"
   ]
  }
 ],
 "metadata": {
  "kernelspec": {
   "display_name": "Python 3",
   "language": "python",
   "name": "python3"
  },
  "language_info": {
   "codemirror_mode": {
    "name": "ipython",
    "version": 3
   },
   "file_extension": ".py",
   "mimetype": "text/x-python",
   "name": "python",
   "nbconvert_exporter": "python",
   "pygments_lexer": "ipython3",
   "version": "3.6.0"
  }
 },
 "nbformat": 4,
 "nbformat_minor": 2
}
