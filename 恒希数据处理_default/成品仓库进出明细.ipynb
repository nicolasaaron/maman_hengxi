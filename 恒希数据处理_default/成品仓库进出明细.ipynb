{
 "cells": [
  {
   "cell_type": "code",
   "execution_count": 1,
   "metadata": {
    "collapsed": false
   },
   "outputs": [
    {
     "name": "stderr",
     "output_type": "stream",
     "text": [
      "C:\\Users\\iris\\Anaconda3\\lib\\site-packages\\pandas\\util\\_decorators.py:118: FutureWarning: The `sheetname` keyword is deprecated, use `sheet_name` instead\n",
      "  return func(*args, **kwargs)\n"
     ]
    },
    {
     "data": {
      "text/plain": [
       "array(['单据', 'Unnamed: 1', 'Unnamed: 2', 'Unnamed: 3', 'Unnamed: 4', '属性',\n",
       "       'Unnamed: 6', 'Unnamed: 7', 'Unnamed: 8', 'Unnamed: 9',\n",
       "       'Unnamed: 10', 'Unnamed: 11', 'Unnamed: 12', 'Unnamed: 13',\n",
       "       'Unnamed: 14', 'Unnamed: 15', 'Unnamed: 16', '入库统计', 'Unnamed: 18',\n",
       "       '出库统计', 'Unnamed: 20'], dtype=object)"
      ]
     },
     "execution_count": 1,
     "metadata": {},
     "output_type": "execute_result"
    }
   ],
   "source": [
    "import numpy as np\n",
    "import pandas as pd\n",
    "import xlrd\n",
    "import openpyxl\n",
    "\n",
    "import os\n",
    "folder_name = '成品仓库进出明细/'\n",
    "if not os.path.exists(folder_name):\n",
    "    os.makedirs(folder_name)\n",
    "\n",
    "month_name = '成品仓库进出明细'\n",
    "input_filename = month_name +'.xls'\n",
    "output_filename = folder_name + month_name+ '_添加类别.xlsx'\n",
    "\n",
    "#df = pd.read_excel(input_filename, sheetname ='成品仓库进出明细3月')\n",
    "df = pd.read_excel(input_filename,sheet_name = 0)\n",
    "df.columns.values\n"
   ]
  },
  {
   "cell_type": "code",
   "execution_count": 2,
   "metadata": {
    "collapsed": false
   },
   "outputs": [
    {
     "name": "stdout",
     "output_type": "stream",
     "text": [
      "Index(['Unnamed: 8'], dtype='object')\n",
      "['类别名称' 'XG' 'W' 'XF' 'XW' '花片' 'PG' '欧驰' '古宝斯' 'HNT' '腰线' 'HNG' 'XT' '文具'\n",
      " 'HNJ' 'HTF' '浮雕' 'HM' 'WM' 'HNF' '其它费用' 'HY' '纸箱' 'HDF' 'HDJ' 'HDG' 'HDT'\n",
      " '办公设备' 'T' nan]\n"
     ]
    },
    {
     "data": {
      "text/plain": [
       "array(['单据', 'Unnamed: 1', 'Unnamed: 2', 'Unnamed: 3', 'Unnamed: 4', '属性',\n",
       "       'Unnamed: 6', 'Unnamed: 7', 'type', 'type_name', 'pd_size',\n",
       "       'Unnamed: 10', 'Unnamed: 11', 'Unnamed: 12', 'Unnamed: 13',\n",
       "       'Unnamed: 14', 'Unnamed: 15', 'Unnamed: 16', '出库统计', 'Unnamed: 20'], dtype=object)"
      ]
     },
     "execution_count": 2,
     "metadata": {},
     "output_type": "execute_result"
    }
   ],
   "source": [
    "df.drop(['入库统计','Unnamed: 18'], axis=1, inplace = True)\n",
    "\n",
    "names = df.loc[0,:]\n",
    "print(names[names == '类别名称'].index)\n",
    "df.rename(index=str, columns={'Unnamed: 8': 'type_name'},inplace=True)\n",
    "print(df.type_name.unique())\n",
    "\n",
    "df.rename(index=str, columns={'Unnamed: 9': 'pd_size'}, inplace = True)\n",
    "\n",
    "df.insert(8,'type',df.type_name)\n",
    "df.columns.values"
   ]
  },
  {
   "cell_type": "code",
   "execution_count": 3,
   "metadata": {
    "collapsed": false
   },
   "outputs": [
    {
     "name": "stdout",
     "output_type": "stream",
     "text": [
      "type\n",
      "五金仓       90\n",
      "全抛釉        2\n",
      "其它费用       1\n",
      "办公设备       1\n",
      "古宝斯        5\n",
      "地砖       537\n",
      "木纹砖       16\n",
      "欧驰        23\n",
      "浮雕        69\n",
      "瓷片      3756\n",
      "类别         1\n",
      "纸箱         5\n",
      "腰线       122\n",
      "花片       175\n",
      "通体砖       28\n",
      "Name: type, dtype: int64\n"
     ]
    }
   ],
   "source": [
    "df.type[df.type_name == '类别名称'] = '类别'\n",
    "\n",
    "df.type[(df.type_name =='HDF') | (df.type_name == 'HDG') | (df.type_name == 'HDJ') | (df.type == 'HDT') ] = '地砖'\n",
    "df.type[df.type_name =='HM'] = '木纹砖'\n",
    "df.type[(df.type_name =='HNF') | (df.type_name == 'HNG') | (df.type_name == 'HNJ') | (df.type == 'HNT') ] = '瓷片'\n",
    "df.type[df.type_name =='HTF'] = '地砖'\n",
    "df.type[df.type_name == 'HW'] = '微晶'\n",
    "df.type[df.type_name == 'HY'] = '全抛釉'\n",
    "\n",
    "df.type[df.type_name == 'PG'] ='通体砖'\n",
    "df.type[(df.type_name == 'PG') & (df.pd_size == '300X300')] = '地砖'\n",
    "df.type[(df.type_name == 'PG') & (df.pd_size == '300X600')] = '瓷片'\n",
    "\n",
    "df.type[(df.type_name == 'P') | (df.type_name == 'T')] = '通体砖'\n",
    "df.type[(df.type_name == 'W') | (df.type_name == 'WM')] = '瓷片'\n",
    "df.type[df.type_name == 'XF'] = '地砖'\n",
    "df.type[(df.type_name == 'XG') | (df.type_name == 'XT') | (df.type_name == 'XW')] = '瓷片'\n",
    "df.type[df.type_name == 'H3S'] = '色晶砖'\n",
    "df.type[df.type_name == 'HS'] = '大理石'\n",
    "df.type[df.type_name == '浮雕'] = '浮雕'\n",
    "df.type[df.type_name == '文具'] = '五金仓'\n",
    "df.type[df.type_name == '花片'] = '花片'\n",
    "df.type[df.type_name == '欧驰'] = '欧驰'\n",
    "df.type[df.type_name == '腰线'] = '腰线'\n",
    "df.type[df.type_name == '纸箱'] = '纸箱'\n",
    "\n",
    "print(df.groupby('type').type.agg('count'))"
   ]
  },
  {
   "cell_type": "code",
   "execution_count": 4,
   "metadata": {
    "collapsed": true
   },
   "outputs": [],
   "source": [
    "#modified output\n",
    "output_df = df.copy(deep=True)\n",
    "output_df.columns = output_df.iloc[0,:]\n",
    "output_df.drop(['0'], axis=0,inplace = True)\n",
    "output_df.set_index('编号',inplace = True)\n",
    "\n",
    "writer = pd.ExcelWriter(output_filename) #creates instance of an excel workboo\n",
    "output_df.to_excel(writer,'sheet1') #creates workbook \n",
    "writer.save() #saves workbook to file in python file directory"
   ]
  },
  {
   "cell_type": "code",
   "execution_count": 5,
   "metadata": {
    "collapsed": false
   },
   "outputs": [
    {
     "data": {
      "text/plain": [
       "array(['免费样板', '正常销售', '折价销售', nan, '收费样板', '销售费用', '物资自用', '免费广告', '免费费用'], dtype=object)"
      ]
     },
     "execution_count": 5,
     "metadata": {},
     "output_type": "execute_result"
    }
   ],
   "source": [
    "## regroup data\n",
    "df2 = output_df.copy(deep=True)\n",
    "df2['销售类型'].unique()"
   ]
  },
  {
   "cell_type": "code",
   "execution_count": 6,
   "metadata": {
    "collapsed": true
   },
   "outputs": [],
   "source": [
    "# 销售收入 : '正常销售 + 折价销售 + 收费样板 + 销售调价\n",
    "\n",
    "#sales = df2[ (df2['销售类型'] == '正常销售') | (df2['销售类型'] == '折价销售') | (df2['销售类型'] == '收费样板') | (df2['销售类型'] == '销售调价') ]\n",
    "sales = df2[ (df2['销售类型'] != '挂账样板') & (df2['销售类型'] != '挂账广告') & (df2['销售类型'] != '免费广告') & (df2['销售类型'] != '免费样板') ]\n",
    "\n",
    "\n",
    "# 挂账样板\n",
    "\n",
    "model = df2[ df2['销售类型'] == '挂账样板' ]\n",
    "\n",
    "# 挂账广告\n",
    "\n",
    "adv = df2[ df2['销售类型'] == '挂账广告']\n",
    "\n",
    "# 免费广告\n",
    "\n",
    "free_adv = df2[ df2['销售类型'] == '免费广告']\n",
    "\n",
    "# 免费样板\n",
    "\n",
    "free_model = df2[ df2['销售类型'] == '免费样板']\n"
   ]
  },
  {
   "cell_type": "code",
   "execution_count": 7,
   "metadata": {
    "collapsed": true
   },
   "outputs": [],
   "source": [
    "# 不同销售类型的金额汇总\n",
    "\n",
    "output_filename = folder_name + '不同销售类型金额汇总.xlsx'\n",
    "group = df2.groupby('销售类型')['金额'].agg(np.sum)\n",
    "\n",
    "writer = pd.ExcelWriter(output_filename) #creates instance of an excel workboo\n",
    "group.to_excel(writer,'sheet1') #creates workbook \n",
    "writer.save() #saves workbook to file in python file directory\n"
   ]
  },
  {
   "cell_type": "code",
   "execution_count": 8,
   "metadata": {
    "collapsed": false
   },
   "outputs": [
    {
     "data": {
      "text/plain": [
       "array(['日期', '类型', '销售类型', '往来单位', '仓库名称', '产品编号', '产品名称', '类别', '类别名称',\n",
       "       '规格', '庄数', '色号', '等级', '品牌', '包装', '单位', '单价', '数量(片)', '金额'], dtype=object)"
      ]
     },
     "execution_count": 8,
     "metadata": {},
     "output_type": "execute_result"
    }
   ],
   "source": [
    "df2.columns.values"
   ]
  },
  {
   "cell_type": "code",
   "execution_count": 9,
   "metadata": {
    "collapsed": true
   },
   "outputs": [],
   "source": [
    "#销售收入\n",
    "\n",
    "df_temp = sales \n",
    "output_filename = folder_name +'summary_销售收入.xlsx'\n",
    "output_filename2 = folder_name +'往来单位_销售收入.xlsx'\n",
    "\n",
    "\n",
    "group = pd.concat([ df_temp.groupby('类别')['数量(片)'].agg(np.sum),\n",
    "                    df_temp.groupby('类别')['金额'].agg(np.sum)],\n",
    "                   axis = 1)\n",
    "\n",
    "group.loc[group.shape[0]] = group.sum()\n",
    "group.rename(index = {group.shape[0]-1: '总计'}, inplace = True)\n",
    "\n",
    "writer = pd.ExcelWriter(output_filename) #creates instance of an excel workboo\n",
    "group.to_excel(writer,'sheet1') #creates workbook \n",
    "writer.save() #saves workbook to file in python file directory\n",
    "\n",
    "\n",
    "group2 = df_temp.groupby('往来单位')['金额'].agg(np.sum).reset_index().set_index('往来单位')\n",
    "\n",
    "group2.loc[group2.shape[0]] = group2.sum()\n",
    "group2.rename(index = {group2.shape[0]-1: '总计'}, inplace = True)\n",
    "\n",
    "writer = pd.ExcelWriter(output_filename2) #creates instance of an excel workboo\n",
    "group2.to_excel(writer,'sheet1') #creates workbook \n",
    "writer.save() #saves workbook to file in python file directory\n"
   ]
  },
  {
   "cell_type": "code",
   "execution_count": 10,
   "metadata": {
    "collapsed": true
   },
   "outputs": [],
   "source": [
    "#挂账样板\n",
    "\n",
    "df_temp = model \n",
    "output_filename = folder_name +'/summary_挂账样板.xlsx'\n",
    "output_filename2 = folder_name +'/往来单位_挂账样板.xlsx'\n",
    "\n",
    "\n",
    "group = pd.concat([ df_temp.groupby('类别')['数量(片)'].agg(np.sum),\n",
    "                    df_temp.groupby('类别')['金额'].agg(np.sum)],\n",
    "                   axis = 1)\n",
    "\n",
    "group.loc[group.shape[0]] = group.sum()\n",
    "group.rename(index = {group.shape[0]-1: '总计'}, inplace = True)\n",
    "\n",
    "writer = pd.ExcelWriter(output_filename) #creates instance of an excel workboo\n",
    "group.to_excel(writer,'sheet1') #creates workbook \n",
    "writer.save() #saves workbook to file in python file directory\n",
    "\n",
    "group2 = df_temp.groupby('往来单位')['金额'].agg(np.sum).reset_index().set_index('往来单位')\n",
    "\n",
    "group2.loc[group2.shape[0]] = group2.sum()\n",
    "group2.rename(index = {group2.shape[0]-1: '总计'}, inplace = True)\n",
    "\n",
    "writer = pd.ExcelWriter(output_filename2) #creates instance of an excel workboo\n",
    "group2.to_excel(writer,'sheet1') #creates workbook \n",
    "writer.save() #saves workbook to file in python file directory\n"
   ]
  },
  {
   "cell_type": "code",
   "execution_count": 11,
   "metadata": {
    "collapsed": true
   },
   "outputs": [],
   "source": [
    "#免费样板\n",
    "\n",
    "df_temp = free_model\n",
    "output_filename = folder_name +'/summary_免费样板.xlsx'\n",
    "output_filename2 = folder_name +'/往来单位_免费样板.xlsx'\n",
    "\n",
    "\n",
    "group = pd.concat([ df_temp.groupby('类别')['数量(片)'].agg(np.sum),\n",
    "                    df_temp.groupby('类别')['金额'].agg(np.sum)],\n",
    "                   axis = 1)\n",
    "\n",
    "group.loc[group.shape[0]] = group.sum()\n",
    "group.rename(index = {group.shape[0]-1: '总计'}, inplace = True)\n",
    "\n",
    "writer = pd.ExcelWriter(output_filename) #creates instance of an excel workboo\n",
    "group.to_excel(writer,'sheet1') #creates workbook \n",
    "writer.save() #saves workbook to file in python file directory\n",
    "\n",
    "group2 = df_temp.groupby('往来单位')['金额'].agg(np.sum).reset_index().set_index('往来单位')\n",
    "\n",
    "group2.loc[group2.shape[0]] = group2.sum()\n",
    "group2.rename(index = {group2.shape[0]-1: '总计'}, inplace = True)\n",
    "\n",
    "writer = pd.ExcelWriter(output_filename2) #creates instance of an excel workboo\n",
    "group2.to_excel(writer,'sheet1') #creates workbook \n",
    "writer.save() #saves workbook to file in python file directory\n"
   ]
  },
  {
   "cell_type": "code",
   "execution_count": 12,
   "metadata": {
    "collapsed": true
   },
   "outputs": [],
   "source": [
    "#免费广告\n",
    "\n",
    "df_temp = free_adv\n",
    "output_filename = folder_name +'/summary_免费广告.xlsx'\n",
    "output_filename2 = folder_name +'/往来单位_免费广告.xlsx'\n",
    "\n",
    "\n",
    "group = pd.concat([ df_temp.groupby('类别')['数量(片)'].agg(np.sum),\n",
    "                    df_temp.groupby('类别')['金额'].agg(np.sum)],\n",
    "                   axis = 1)\n",
    "\n",
    "group.loc[group.shape[0]] = group.sum()\n",
    "group.rename(index = {group.shape[0]-1: '总计'}, inplace = True)\n",
    "\n",
    "writer = pd.ExcelWriter(output_filename) #creates instance of an excel workboo\n",
    "group.to_excel(writer,'sheet1') #creates workbook \n",
    "writer.save() #saves workbook to file in python file directory\n",
    "\n",
    "\n",
    "group2 = df_temp.groupby('往来单位')['金额'].agg(np.sum).reset_index().set_index('往来单位')\n",
    "\n",
    "group2.loc[group2.shape[0]] = group2.sum()\n",
    "group2.rename(index = {group2.shape[0]-1: '总计'}, inplace = True)\n",
    "\n",
    "writer = pd.ExcelWriter(output_filename2) #creates instance of an excel workboo\n",
    "group2.to_excel(writer,'sheet1') #creates workbook \n",
    "writer.save() #saves workbook to file in python file directory\n"
   ]
  },
  {
   "cell_type": "code",
   "execution_count": 13,
   "metadata": {
    "collapsed": false
   },
   "outputs": [
    {
     "name": "stdout",
     "output_type": "stream",
     "text": [
      "success\n"
     ]
    }
   ],
   "source": [
    "print('success')"
   ]
  }
 ],
 "metadata": {
  "kernelspec": {
   "display_name": "Python 3",
   "language": "python",
   "name": "python3"
  },
  "language_info": {
   "codemirror_mode": {
    "name": "ipython",
    "version": 3
   },
   "file_extension": ".py",
   "mimetype": "text/x-python",
   "name": "python",
   "nbconvert_exporter": "python",
   "pygments_lexer": "ipython3",
   "version": "3.6.0"
  }
 },
 "nbformat": 4,
 "nbformat_minor": 2
}
