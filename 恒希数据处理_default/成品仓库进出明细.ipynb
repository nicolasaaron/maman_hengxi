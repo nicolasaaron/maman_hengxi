{
 "cells": [
  {
   "cell_type": "code",
   "execution_count": 1,
   "metadata": {
    "collapsed": false
   },
   "outputs": [
    {
     "name": "stdout",
     "output_type": "stream",
     "text": [
      "WARNING *** file size (1911956) not 512 + multiple of sector size (512)\n"
     ]
    },
    {
     "data": {
      "text/plain": [
       "array(['单据', 'Unnamed: 1', 'Unnamed: 2', 'Unnamed: 3', 'Unnamed: 4', '属性',\n",
       "       'Unnamed: 6', 'Unnamed: 7', 'Unnamed: 8', 'Unnamed: 9',\n",
       "       'Unnamed: 10', 'Unnamed: 11', 'Unnamed: 12', 'Unnamed: 13',\n",
       "       'Unnamed: 14', 'Unnamed: 15', 'Unnamed: 16', '入库统计', 'Unnamed: 18',\n",
       "       '出库统计', 'Unnamed: 20'], dtype=object)"
      ]
     },
     "execution_count": 1,
     "metadata": {},
     "output_type": "execute_result"
    }
   ],
   "source": [
    "import numpy as np\n",
    "import pandas as pd\n",
    "import xlrd\n",
    "import openpyxl\n",
    "\n",
    "import os\n",
    "folder_name = '成品仓库进出明细/'\n",
    "if not os.path.exists(folder_name):\n",
    "    os.makedirs(folder_name)\n",
    "\n",
    "type_name = '成品仓库进出明细'\n",
    "input_filename = type_name +'.xls'\n",
    "output_filename = folder_name + type_name+ '_添加类别.xlsx'\n",
    "\n",
    "#df = pd.read_excel(input_filename, sheetname ='成品仓库进出明细3月')\n",
    "df = pd.read_excel(input_filename,sheet_name = 0)\n",
    "df.columns.values\n"
   ]
  },
  {
   "cell_type": "code",
   "execution_count": 2,
   "metadata": {
    "collapsed": false
   },
   "outputs": [
    {
     "name": "stdout",
     "output_type": "stream",
     "text": [
      "入库统计\n",
      "Unnamed: 18\n"
     ]
    }
   ],
   "source": [
    "#清除 \"入库统计\"\n",
    "tag_names = list(df.iloc[0])\n",
    "col_names = list(df.columns.values)\n",
    "\n",
    "idx_entering_warehouse = col_names.index('入库统计')\n",
    "str_entering_warehouse_1= col_names[idx_entering_warehouse]\n",
    "str_entering_warehouse_2 = col_names[idx_entering_warehouse +1]\n",
    "\n",
    "print(str_entering_warehouse_1)\n",
    "print(str_entering_warehouse_2)\n",
    "\n",
    "df.drop([str_entering_warehouse_1,str_entering_warehouse_2], axis=1, inplace = True)\n"
   ]
  },
  {
   "cell_type": "code",
   "execution_count": 3,
   "metadata": {
    "collapsed": false
   },
   "outputs": [
    {
     "name": "stdout",
     "output_type": "stream",
     "text": [
      "Unnamed: 8 \n",
      "\n",
      "Unnamed: 9 \n",
      "\n",
      "['单据' 'Unnamed: 1' 'Unnamed: 2' 'Unnamed: 3' 'Unnamed: 4' '属性' 'Unnamed: 6'\n",
      " 'Unnamed: 7' 'type_name' 'pd_size' 'Unnamed: 10' 'Unnamed: 11'\n",
      " 'Unnamed: 12' 'Unnamed: 13' 'Unnamed: 14' 'Unnamed: 15' 'Unnamed: 16'\n",
      " '出库统计' 'Unnamed: 20'] \n",
      "\n"
     ]
    },
    {
     "data": {
      "text/plain": [
       "array(['单据', 'Unnamed: 1', 'Unnamed: 2', 'Unnamed: 3', 'Unnamed: 4', '属性',\n",
       "       'Unnamed: 6', 'Unnamed: 7', 'type', 'type_name', 'pd_size',\n",
       "       'Unnamed: 10', 'Unnamed: 11', 'Unnamed: 12', 'Unnamed: 13',\n",
       "       'Unnamed: 14', 'Unnamed: 15', 'Unnamed: 16', '出库统计', 'Unnamed: 20'], dtype=object)"
      ]
     },
     "execution_count": 3,
     "metadata": {},
     "output_type": "execute_result"
    }
   ],
   "source": [
    "#重命名\"类别名称\"所在列 的标签\n",
    "tag_names = list(df.iloc[0])\n",
    "col_names = list(df.columns.values)\n",
    "\n",
    "idx_typename = tag_names.index('类别名称')\n",
    "str_typename = col_names[idx_typename]\n",
    "print(str_typename,'\\n')\n",
    "\n",
    "df.rename(index=str, columns={str_typename: 'type_name'},inplace=True)\n",
    "df.type_name.unique()\n",
    "\n",
    "str_typesize = col_names[idx_typename + 1]\n",
    "print(str_typesize, '\\n')\n",
    "\n",
    "df.rename(index=str, columns={str_typesize: 'pd_size'}, inplace = True)\n",
    "\n",
    "# 添加一列，命名为 type\n",
    "print(df.columns.values,'\\n')\n",
    "df.insert(idx_typename,'type',df.type_name)\n",
    "df.columns.values\n"
   ]
  },
  {
   "cell_type": "code",
   "execution_count": 4,
   "metadata": {
    "collapsed": false
   },
   "outputs": [
    {
     "name": "stdout",
     "output_type": "stream",
     "text": [
      "type\n",
      "五金仓       90\n",
      "全抛釉        2\n",
      "其它费用       1\n",
      "办公设备       1\n",
      "古宝斯        5\n",
      "地砖       537\n",
      "木纹砖       16\n",
      "欧驰        23\n",
      "浮雕        69\n",
      "瓷片      3754\n",
      "类别         1\n",
      "纸箱         5\n",
      "腰线       122\n",
      "花片       175\n",
      "通体砖       28\n",
      "Name: type, dtype: int64\n"
     ]
    }
   ],
   "source": [
    "df.type[df.type_name == '类别名称'] = '类别'\n",
    "\n",
    "df.type[(df.type_name =='HDF') | (df.type_name == 'HDG') | (df.type_name == 'HDJ') | (df.type == 'HDT') ] = '地砖'\n",
    "df.type[df.type_name =='HM'] = '木纹砖'\n",
    "df.type[(df.type_name =='HNF') | (df.type_name == 'HNG') | (df.type_name == 'HNJ') | (df.type == 'HNT') ] = '瓷片'\n",
    "df.type[df.type_name =='HTF'] = '地砖'\n",
    "df.type[df.type_name == 'HW'] = '微晶'\n",
    "df.type[df.type_name == 'HY'] = '全抛釉'\n",
    "\n",
    "df.type[df.type_name == 'PG'] ='通体砖'\n",
    "df.type[(df.type_name == 'PG') & (df.pd_size == '300X300')] = '地砖'\n",
    "df.type[(df.type_name == 'PG') & (df.pd_size == '300X600')] = '瓷片'\n",
    "\n",
    "df.type[(df.type_name == 'P') | (df.type_name == 'T')] = '通体砖'\n",
    "df.type[(df.type_name == 'W') | (df.type_name == 'WM')] = '瓷片'\n",
    "df.type[df.type_name == 'XF'] = '地砖'\n",
    "df.type[(df.type_name == 'XG') | (df.type_name == 'XT') | (df.type_name == 'XW')] = '瓷片'\n",
    "df.type[df.type_name == 'H3S'] = '色晶砖'\n",
    "df.type[df.type_name == 'HS'] = '大理石'\n",
    "df.type[df.type_name == '浮雕'] = '浮雕'\n",
    "df.type[df.type_name == '文具'] = '五金仓'\n",
    "df.type[df.type_name == '花片'] = '花片'\n",
    "df.type[df.type_name == '欧驰'] = '欧驰'\n",
    "df.type[df.type_name == '腰线'] = '腰线'\n",
    "df.type[df.type_name == '纸箱'] = '纸箱'\n",
    "\n",
    "df.type[df.type_name == 'HNW'] = '镜面砖'\n",
    "\n",
    "print(df.groupby('type').type.agg('count'))"
   ]
  },
  {
   "cell_type": "code",
   "execution_count": 5,
   "metadata": {
    "collapsed": true
   },
   "outputs": [],
   "source": [
    "#modified output\n",
    "output_df = df.copy(deep=True)\n",
    "output_df.columns = output_df.iloc[0,:]\n",
    "output_df.drop(['0'], axis=0,inplace = True)\n",
    "output_df.set_index('编号',inplace = True)\n",
    "\n",
    "writer = pd.ExcelWriter(output_filename) #creates instance of an excel workboo\n",
    "output_df.to_excel(writer,'sheet1') #creates workbook \n",
    "writer.save() #saves workbook to file in python file directory"
   ]
  },
  {
   "cell_type": "code",
   "execution_count": 6,
   "metadata": {
    "collapsed": false
   },
   "outputs": [
    {
     "name": "stdout",
     "output_type": "stream",
     "text": [
      "['免费样板' '正常销售' '折价销售' nan '免费广告' '免费费用' '物资自用' '收费样板' '销售费用']\n",
      "['日期' '类型' '销售类型' '往来单位' '仓库名称' '产品编号' '产品名称' '类别' '类别名称' '规格' '庄数' '色号'\n",
      " '等级' '品牌' '包装' '单位' '单价' '数量(片)' '金额']\n"
     ]
    }
   ],
   "source": [
    "## regroup data\n",
    "df2 = output_df.copy(deep=True)\n",
    "print(df2['销售类型'].unique())\n",
    "print( df2.columns.values )"
   ]
  },
  {
   "cell_type": "code",
   "execution_count": 7,
   "metadata": {
    "collapsed": true
   },
   "outputs": [],
   "source": [
    "# 销售成本 : '正常销售 + 折价销售 + 收费样板 + 销售调价\n",
    "\n",
    "#sales = df2[ (df2['销售类型'] == '正常销售') | (df2['销售类型'] == '折价销售') | (df2['销售类型'] == '收费样板') | (df2['销售类型'] == '销售调价') ]\n",
    "sales = df2[ (df2['销售类型'] != '挂账样板') & \n",
    "             (df2['销售类型'] != '挂账广告') & \n",
    "             (df2['销售类型'] != '免费广告') & \n",
    "             (df2['销售类型'] != '免费样板') &\n",
    "             (df2['销售类型'] != '免费费用') ]\n",
    "\n",
    "\n",
    "# 挂账样板\n",
    "\n",
    "model = df2[ df2['销售类型'] == '挂账样板' ]\n",
    "\n",
    "# 挂账广告\n",
    "\n",
    "adv = df2[ df2['销售类型'] == '挂账广告']\n",
    "\n",
    "# 免费广告\n",
    "\n",
    "free_adv = df2[ df2['销售类型'] == '免费广告']\n",
    "\n",
    "# 免费样板\n",
    "\n",
    "free_model = df2[ df2['销售类型'] == '免费样板']\n",
    "\n",
    "# 免费费用\n",
    "\n",
    "free_expenses = df2[ df2['销售类型'] == '免费费用']\n"
   ]
  },
  {
   "cell_type": "code",
   "execution_count": 8,
   "metadata": {
    "collapsed": true
   },
   "outputs": [],
   "source": [
    "def summary_product_category(key, df_temp):\n",
    "    output_filename = folder_name +'summary_'+key+'.xlsx'\n",
    "    output_filename2 = folder_name +'往来单位_'+key+'.xlsx'\n",
    "\n",
    "\n",
    "    group = pd.concat([ df_temp.groupby('类别')['数量(片)'].agg(np.sum),\n",
    "                        df_temp.groupby('类别')['金额'].agg(np.sum)],\n",
    "                       axis = 1)\n",
    "\n",
    "    group.loc[group.shape[0]] = group.sum()\n",
    "    group.rename(index = {group.shape[0]-1: '总计'}, inplace = True)\n",
    "\n",
    "    writer = pd.ExcelWriter(output_filename) #creates instance of an excel workboo\n",
    "    group.to_excel(writer,startrow = 1, sheet_name= 'sheet1') #creates workbook\n",
    "\n",
    "    # handle the spreadsheet format\n",
    "    workbook = writer.book\n",
    "    worksheet = writer.sheets['sheet1']      \n",
    "    percent_fmt = workbook.add_format({'num_format': '0.00'})\n",
    "    worksheet.set_column('C:C', None, percent_fmt)\n",
    "    header_format = workbook.add_format({'bold': True,'text_wrap': True,\n",
    "                                                 'align': 'center',\n",
    "                                                 'valign': 'vcenter',\n",
    "                                                 'fg_color': '#D7E4BC', 'border': 1})\n",
    "    worksheet.merge_range('A1:C1',key,header_format)        \n",
    "\n",
    "    writer.save() #saves workbook to file in python file directory\n",
    "\n",
    "    ########################\n",
    "    # 往来单位\n",
    "    ########################\n",
    "    group2 = df_temp.groupby('往来单位')['金额'].agg(np.sum).reset_index().set_index('往来单位')\n",
    "\n",
    "    group2.loc[group2.shape[0]] = group2.sum()\n",
    "    group2.rename(index = {group2.shape[0]-1: '总计'}, inplace = True)\n",
    "\n",
    "    writer = pd.ExcelWriter(output_filename2) #creates instance of an excel workboo\n",
    "    group2.to_excel(writer,startrow = 1, sheet_name = 'sheet1') #creates workbook \n",
    "\n",
    "    # handle the spreadsheet format\n",
    "    workbook = writer.book\n",
    "    worksheet = writer.sheets['sheet1']      \n",
    "    percent_fmt = workbook.add_format({'num_format': '0.00'})\n",
    "    worksheet.set_column('B:B', None, percent_fmt)\n",
    "    header_format = workbook.add_format({'bold': True,'text_wrap': True,\n",
    "                                                 'align': 'center',\n",
    "                                                 'valign': 'vcenter',\n",
    "                                                 'fg_color': '#D7E4BC', 'border': 1})\n",
    "    worksheet.merge_range('A1:B1', key+'往来单位',header_format)        \n",
    "\n",
    "    writer.save() #saves workbook to file in python file directory\n",
    "    \n",
    "    return\n",
    "\n"
   ]
  },
  {
   "cell_type": "code",
   "execution_count": 9,
   "metadata": {
    "collapsed": false
   },
   "outputs": [],
   "source": [
    "key = '销售成本'\n",
    "summary_product_category(key, sales)\n",
    "\n",
    "key ='挂账样板'\n",
    "summary_product_category(key, model)\n",
    "\n",
    "key = '免费样板'\n",
    "summary_product_category(key, free_model)\n",
    "\n",
    "key = '免费广告'\n",
    "summary_product_category(key, free_adv)\n",
    "\n",
    "key = '免费费用'\n",
    "summary_product_category(key, free_expenses)\n"
   ]
  },
  {
   "cell_type": "code",
   "execution_count": 10,
   "metadata": {
    "collapsed": true
   },
   "outputs": [],
   "source": [
    "# 不同销售类型的金额汇总\n",
    "\n",
    "output_filename = folder_name + '不同销售类型金额汇总.xlsx'\n",
    "group = df2.groupby('销售类型')['金额'].agg(np.sum)\n",
    "\n",
    "writer = pd.ExcelWriter(output_filename) #creates instance of an excel workboo\n",
    "group.to_excel(writer,startrow = 1, sheet_name= 'sheet1') #creates workbook\n",
    "\n",
    "# handle the spreadsheet format\n",
    "workbook = writer.book\n",
    "worksheet = writer.sheets['sheet1']      \n",
    "percent_fmt = workbook.add_format({'num_format': '0.00'})\n",
    "worksheet.set_column('B:B', None, percent_fmt)\n",
    "header_format = workbook.add_format({'bold': True,'text_wrap': True,\n",
    "                                             'align': 'center',\n",
    "                                             'valign': 'vcenter',\n",
    "                                             'fg_color': '#D7E4BC', 'border': 1})\n",
    "worksheet.merge_range('A1:B1','销售类型金额统计',header_format)        \n",
    "\n",
    "writer.save() #saves workbook to file in python file directory\n"
   ]
  },
  {
   "cell_type": "code",
   "execution_count": 11,
   "metadata": {
    "collapsed": false
   },
   "outputs": [
    {
     "name": "stdout",
     "output_type": "stream",
     "text": [
      "success\n"
     ]
    }
   ],
   "source": [
    "print('success')"
   ]
  }
 ],
 "metadata": {
  "kernelspec": {
   "display_name": "Python 3",
   "language": "python",
   "name": "python3"
  },
  "language_info": {
   "codemirror_mode": {
    "name": "ipython",
    "version": 3
   },
   "file_extension": ".py",
   "mimetype": "text/x-python",
   "name": "python",
   "nbconvert_exporter": "python",
   "pygments_lexer": "ipython3",
   "version": "3.6.0"
  }
 },
 "nbformat": 4,
 "nbformat_minor": 2
}
