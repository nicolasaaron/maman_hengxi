{
 "cells": [
  {
   "cell_type": "code",
   "execution_count": 1,
   "metadata": {},
   "outputs": [
    {
     "name": "stdout",
     "output_type": "stream",
     "text": [
      "WARNING *** file size (1466333) not 512 + multiple of sector size (512)\n"
     ]
    },
    {
     "data": {
      "text/plain": [
       "array(['单据', 'Unnamed: 1', 'Unnamed: 2', 'Unnamed: 3', 'Unnamed: 4',\n",
       "       'Unnamed: 5', 'Unnamed: 6', 'Unnamed: 7', 'Unnamed: 8',\n",
       "       'Unnamed: 9', 'Unnamed: 10', 'Unnamed: 11', '属性', 'Unnamed: 13',\n",
       "       'Unnamed: 14', 'Unnamed: 15', 'Unnamed: 16', 'Unnamed: 17',\n",
       "       'Unnamed: 18', 'Unnamed: 19', 'Unnamed: 20', 'Unnamed: 21', '统计',\n",
       "       'Unnamed: 23', 'Unnamed: 24', 'Unnamed: 25', 'Unnamed: 26',\n",
       "       'Unnamed: 27', 'Unnamed: 28', 'Unnamed: 29', 'Unnamed: 30',\n",
       "       'Unnamed: 31', 'Unnamed: 32', 'Unnamed: 33', 'Unnamed: 34', '备注',\n",
       "       '后续', 'Unnamed: 37'], dtype=object)"
      ]
     },
     "execution_count": 1,
     "metadata": {},
     "output_type": "execute_result"
    }
   ],
   "source": [
    "import numpy as np\n",
    "import pandas as pd\n",
    "import xlrd\n",
    "import openpyxl\n",
    "\n",
    "import os\n",
    "folder_name = '成品销售明细表/'\n",
    "if not os.path.exists(folder_name):\n",
    "    os.makedirs(folder_name)\n",
    "\n",
    "month_name = '成品销售明细表'\n",
    "input_filename = month_name +'.xls'\n",
    "output_filename = folder_name + month_name+ '_添加类别.xlsx'\n",
    "\n",
    "df = pd.read_excel(input_filename, sheetname ='成品销售明细表1月')\n",
    "df.columns.values\n"
   ]
  },
  {
   "cell_type": "code",
   "execution_count": 2,
   "metadata": {},
   "outputs": [
    {
     "name": "stdout",
     "output_type": "stream",
     "text": [
      "Index(['Unnamed: 14'], dtype='object')\n"
     ]
    },
    {
     "data": {
      "text/plain": [
       "array(['单据', 'Unnamed: 1', 'Unnamed: 2', 'Unnamed: 3', 'Unnamed: 4',\n",
       "       'Unnamed: 5', 'Unnamed: 6', 'Unnamed: 7', 'Unnamed: 8',\n",
       "       'Unnamed: 9', 'Unnamed: 10', 'Unnamed: 11', '属性', 'Unnamed: 13',\n",
       "       'type', 'type_name', 'pd_size', 'Unnamed: 16', 'Unnamed: 17',\n",
       "       'Unnamed: 18', 'Unnamed: 19', 'Unnamed: 20', 'Unnamed: 21', '统计',\n",
       "       'Unnamed: 23', 'Unnamed: 24', 'Unnamed: 25', 'Unnamed: 26',\n",
       "       'Unnamed: 27', 'Unnamed: 28', 'Unnamed: 29', 'Unnamed: 30',\n",
       "       'Unnamed: 31', 'Unnamed: 32', 'Unnamed: 33', 'Unnamed: 34', '备注',\n",
       "       '后续', 'Unnamed: 37'], dtype=object)"
      ]
     },
     "execution_count": 2,
     "metadata": {},
     "output_type": "execute_result"
    }
   ],
   "source": [
    "names = df.loc[0,:]\n",
    "print(names[names == '类别名称'].index)\n",
    "\n",
    "df.rename(index=str, columns={'Unnamed: 14': 'type_name'},inplace=True)\n",
    "df.type_name.head()\n",
    "\n",
    "df.rename(index=str, columns={'Unnamed: 15': 'pd_size'}, inplace = True)\n",
    "df.pd_size.head()\n",
    "\n",
    "df.insert(14,'type',df.type_name)\n",
    "df.columns.values"
   ]
  },
  {
   "cell_type": "code",
   "execution_count": 3,
   "metadata": {
    "collapsed": true
   },
   "outputs": [],
   "source": [
    "df.type[df.type_name == '类别名称'] = '类别'\n",
    "\n",
    "df.type[(df.type_name =='HDF') | (df.type_name == 'HDG') | (df.type_name == 'HDJ') | (df.type == 'HDT') ] = '地砖'\n",
    "df.type[df.type_name =='HM'] = '木纹砖'\n",
    "df.type[(df.type_name =='HNF') | (df.type_name == 'HNG') | (df.type_name == 'HNJ') | (df.type == 'HNT') ] = '瓷片'\n",
    "df.type[df.type_name =='HTF'] = '地砖'\n",
    "df.type[df.type_name == 'HW'] = '微晶'\n",
    "df.type[df.type_name == 'HY'] = '全抛釉'\n",
    "\n",
    "df.type[df.type_name == 'PG'] ='通体砖'\n",
    "df.type[(df.type_name == 'PG') & (df.pd_size == '300X300')] = '地砖'\n",
    "df.type[(df.type_name == 'PG') & (df.pd_size == '300X600')] = '瓷片'\n",
    "\n",
    "df.type[(df.type_name == 'P') | (df.type_name == 'T')] = '通体砖'\n",
    "df.type[(df.type_name == 'W') | (df.type_name == 'WM')] = '瓷片'\n",
    "df.type[df.type_name == 'XF'] = '地砖'\n",
    "df.type[(df.type_name == 'XG') | (df.type_name == 'XT') | (df.type_name == 'XW')] = '瓷片'\n",
    "df.type[df.type_name == 'H3S'] = '色晶砖'\n",
    "df.type[df.type_name == 'HS'] = '大理石'\n",
    "df.type[df.type_name == '浮雕'] = '浮雕'\n",
    "df.type[df.type_name == '文具'] = '五金仓'\n",
    "df.type[df.type_name == '花片'] = '花片'\n",
    "df.type[df.type_name == '欧驰'] = '欧驰'\n",
    "df.type[df.type_name == '腰线'] = '腰线'\n",
    "df.type[df.type_name == '纸箱'] = '纸箱'"
   ]
  },
  {
   "cell_type": "code",
   "execution_count": 4,
   "metadata": {},
   "outputs": [
    {
     "data": {
      "text/plain": [
       "type\n",
       "五金仓       23\n",
       "全抛釉        4\n",
       "其它费用       1\n",
       "古宝斯        4\n",
       "地砖       243\n",
       "木纹砖        3\n",
       "欧驰        13\n",
       "浮雕        28\n",
       "瓷片      1554\n",
       "类别         1\n",
       "纸箱         2\n",
       "腰线        50\n",
       "花片        76\n",
       "通体砖       11\n",
       "销售费用      23\n",
       "Name: type, dtype: int64"
      ]
     },
     "execution_count": 4,
     "metadata": {},
     "output_type": "execute_result"
    }
   ],
   "source": [
    "df.groupby('type').type.agg('count')"
   ]
  },
  {
   "cell_type": "code",
   "execution_count": 5,
   "metadata": {
    "collapsed": true
   },
   "outputs": [],
   "source": [
    "#modified output\n",
    "output_df = df.copy(deep=True)\n",
    "output_df.columns = output_df.iloc[0,:]\n",
    "output_df.drop('公司',axis=1,inplace = True)\n",
    "output_df.drop(['0'], axis=0,inplace = True)\n",
    "output_df.set_index('单号',inplace = True)\n",
    "\n",
    "writer = pd.ExcelWriter(output_filename) #creates instance of an excel workboo\n",
    "output_df.to_excel(writer,'sheet1') #creates workbook \n",
    "writer.save() #saves workbook to file in python file directory\n"
   ]
  },
  {
   "cell_type": "code",
   "execution_count": 6,
   "metadata": {},
   "outputs": [
    {
     "data": {
      "text/plain": [
       "array(['正常销售', '折价销售', '免费样板', '收费样板', '免费广告', '销售费用', nan], dtype=object)"
      ]
     },
     "execution_count": 6,
     "metadata": {},
     "output_type": "execute_result"
    }
   ],
   "source": [
    "## regroup data\n",
    "df2 = output_df.copy(deep=True)\n",
    "df2['类型'].unique()\n"
   ]
  },
  {
   "cell_type": "code",
   "execution_count": 7,
   "metadata": {
    "collapsed": true
   },
   "outputs": [],
   "source": [
    "# 销售收入 : '正常销售 + 折价销售 + 收费样板 + 销售调价\n",
    "\n",
    "#sales = df2[ (df2['类型'] == '正常销售') | (df2['类型'] == '折价销售') | (df2['类型'] == '收费样板') | (df2['类型'] == '销售调价') ]\n",
    "sales = df2[ (df2['类型'] != '挂账样板') & (df2['类型'] != '挂账广告') & (df2['类型'] != '免费广告') & (df2['类型'] != '免费样板') ]\n",
    "\n",
    "\n",
    "# 挂账样板\n",
    "\n",
    "model = df2[ df2['类型'] == '挂账样板' ]\n",
    "\n",
    "# 挂账广告\n",
    "\n",
    "adv = df2[ df2['类型'] == '挂账广告']\n",
    "\n",
    "# 免费广告\n",
    "\n",
    "free_adv = df2[ df2['类型'] == '免费广告']\n",
    "\n",
    "# 免费样板\n",
    "\n",
    "free_model = df2[ df2['类型'] == '免费样板']"
   ]
  },
  {
   "cell_type": "code",
   "execution_count": 8,
   "metadata": {
    "collapsed": true
   },
   "outputs": [],
   "source": [
    "# 各种类型 金额汇总表\n",
    "\n",
    "output_filename  = folder_name + '不同类型金额汇总.xlsx'\n",
    "group = df2.groupby('类型')['合计金额'].agg(np.sum)\n",
    "\n",
    "writer = pd.ExcelWriter(output_filename) #creates instance of an excel workboo\n",
    "group.to_excel(writer,'sheet1') #creates workbook \n",
    "writer.save() #saves workbook to file in python file directory\n"
   ]
  },
  {
   "cell_type": "code",
   "execution_count": 9,
   "metadata": {},
   "outputs": [
    {
     "data": {
      "text/plain": [
       "\"\\ngroup2 = df_temp.groupby('客户名称')['合计金额'].agg(np.sum).reset_index().set_index('客户名称')\\n\\ngroup2.loc[group2.shape[0]] = group2.sum()\\ngroup2.rename(index = {group2.shape[0]-1: '总计'}, inplace = True)\\n\\nwriter = pd.ExcelWriter(output_filename2) #creates instance of an excel workboo\\ngroup2.to_excel(writer,'sheet1') #creates workbook \\nwriter.save() #saves workbook to file in python file directory\\n\""
      ]
     },
     "execution_count": 9,
     "metadata": {},
     "output_type": "execute_result"
    }
   ],
   "source": [
    "#销售收入\n",
    "\n",
    "df_temp = sales \n",
    "output_filename = folder_name +'summary_销售收入.xlsx'\n",
    "output_filename2 = folder_name +'客户名称_销售收入.xlsx'\n",
    "\n",
    "group = pd.concat([ df_temp.groupby('类别')['金额'].agg(np.sum),\n",
    "                    df_temp.groupby('类别')['装车金额'].agg(np.sum),\n",
    "                    df_temp.groupby('类别')['合计金额'].agg(np.sum)],\n",
    "                   axis = 1)\n",
    "\n",
    "\n",
    "group.loc[group.shape[0]] = group.sum()\n",
    "group.rename(index = {group.shape[0]-1: '总计'}, inplace = True)\n",
    "\n",
    "writer = pd.ExcelWriter(output_filename) #creates instance of an excel workboo\n",
    "group.to_excel(writer,'sheet1') #creates workbook \n",
    "writer.save() #saves workbook to file in python file directory\n",
    "\n",
    "'''\n",
    "group2 = df_temp.groupby('客户名称')['合计金额'].agg(np.sum).reset_index().set_index('客户名称')\n",
    "\n",
    "group2.loc[group2.shape[0]] = group2.sum()\n",
    "group2.rename(index = {group2.shape[0]-1: '总计'}, inplace = True)\n",
    "\n",
    "writer = pd.ExcelWriter(output_filename2) #creates instance of an excel workboo\n",
    "group2.to_excel(writer,'sheet1') #creates workbook \n",
    "writer.save() #saves workbook to file in python file directory\n",
    "'''"
   ]
  },
  {
   "cell_type": "code",
   "execution_count": 10,
   "metadata": {
    "collapsed": true
   },
   "outputs": [],
   "source": [
    "#挂账样板\n",
    "\n",
    "df_temp = model \n",
    "output_filename = folder_name +'summary_挂账样板.xlsx'\n",
    "output_filename2 = folder_name +'客户名称_挂账样板.xlsx'\n",
    "\n",
    "group = pd.concat([ df_temp.groupby('类别')['金额'].agg(np.sum),\n",
    "                    df_temp.groupby('类别')['装车金额'].agg(np.sum),\n",
    "                    df_temp.groupby('类别')['合计金额'].agg(np.sum)],\n",
    "                   axis = 1)\n",
    "\n",
    "\n",
    "group.loc[group.shape[0]] = group.sum()\n",
    "group.rename(index = {group.shape[0]-1: '总计'}, inplace = True)\n",
    "\n",
    "writer = pd.ExcelWriter(output_filename) #creates instance of an excel workboo\n",
    "group.to_excel(writer,'sheet1') #creates workbook \n",
    "writer.save() #saves workbook to file in python file directory\n",
    "\n",
    "\n",
    "group2 = df_temp.groupby('客户名称')['合计金额'].agg(np.sum).reset_index().set_index('客户名称')\n",
    "\n",
    "group2.loc[group2.shape[0]] = group2.sum()\n",
    "group2.rename(index = {group2.shape[0]-1: '总计'}, inplace = True)\n",
    "\n",
    "writer = pd.ExcelWriter(output_filename2) #creates instance of an excel workboo\n",
    "group2.to_excel(writer,'sheet1') #creates workbook \n",
    "writer.save() #saves workbook to file in python file directory"
   ]
  },
  {
   "cell_type": "code",
   "execution_count": 11,
   "metadata": {
    "collapsed": true
   },
   "outputs": [],
   "source": [
    "#免费广告\n",
    "\n",
    "df_temp = free_adv\n",
    "output_filename = folder_name +'summary_免费广告.xlsx'\n",
    "output_filename2 = folder_name +'客户名称_免费广告.xlsx'\n",
    "\n",
    "group = pd.concat([ df_temp.groupby('类别')['金额'].agg(np.sum),\n",
    "                    df_temp.groupby('类别')['装车金额'].agg(np.sum),\n",
    "                    df_temp.groupby('类别')['合计金额'].agg(np.sum)],\n",
    "                   axis = 1)\n",
    "\n",
    "\n",
    "group.loc[group.shape[0]] = group.sum()\n",
    "group.rename(index = {group.shape[0]-1: '总计'}, inplace = True)\n",
    "\n",
    "writer = pd.ExcelWriter(output_filename) #creates instance of an excel workboo\n",
    "group.to_excel(writer,'sheet1') #creates workbook \n",
    "writer.save() #saves workbook to file in python file directory\n",
    "\n",
    "\n",
    "group2 = df_temp.groupby('客户名称')['合计金额'].agg(np.sum).reset_index().set_index('客户名称')\n",
    "\n",
    "group2.loc[group2.shape[0]] = group2.sum()\n",
    "group2.rename(index = {group2.shape[0]-1: '总计'}, inplace = True)\n",
    "\n",
    "writer = pd.ExcelWriter(output_filename2) #creates instance of an excel workboo\n",
    "group2.to_excel(writer,'sheet1') #creates workbook \n",
    "writer.save() #saves workbook to file in python file directory"
   ]
  },
  {
   "cell_type": "code",
   "execution_count": 12,
   "metadata": {
    "collapsed": true
   },
   "outputs": [],
   "source": [
    "# 免费样板\n",
    "\n",
    "df_temp = free_model \n",
    "output_filename = folder_name +'summary_免费样板.xlsx'\n",
    "output_filename2 = folder_name +'客户名称_免费样板.xlsx'\n",
    "\n",
    "group = pd.concat([ df_temp.groupby('类别')['金额'].agg(np.sum),\n",
    "                    df_temp.groupby('类别')['装车金额'].agg(np.sum),\n",
    "                    df_temp.groupby('类别')['合计金额'].agg(np.sum)],\n",
    "                   axis = 1)\n",
    "\n",
    "\n",
    "group.loc[group.shape[0]] = group.sum()\n",
    "group.rename(index = {group.shape[0]-1: '总计'}, inplace = True)\n",
    "\n",
    "writer = pd.ExcelWriter(output_filename) #creates instance of an excel workboo\n",
    "group.to_excel(writer,'sheet1') #creates workbook \n",
    "writer.save() #saves workbook to file in python file directory\n",
    "\n",
    "\n",
    "group2 = pd.concat([df_temp.groupby('客户名称')['金额'].agg(np.sum),\n",
    "                    df_temp.groupby('客户名称')['装车金额'].agg(np.sum),\n",
    "                    df_temp.groupby('客户名称')['合计金额'].agg(np.sum)],\n",
    "                  axis = 1)\n",
    "\n",
    "group2.loc[group2.shape[0]] = group2.sum()\n",
    "group2.rename(index = {group2.shape[0]-1: '总计'}, inplace = True)\n",
    "\n",
    "writer = pd.ExcelWriter(output_filename2) #creates instance of an excel workboo\n",
    "group2.to_excel(writer,'sheet1') #creates workbook \n",
    "writer.save() #saves workbook to file in python file directory"
   ]
  },
  {
   "cell_type": "code",
   "execution_count": null,
   "metadata": {
    "collapsed": true
   },
   "outputs": [],
   "source": []
  }
 ],
 "metadata": {
  "kernelspec": {
   "display_name": "Python 3",
   "language": "python",
   "name": "python3"
  },
  "language_info": {
   "codemirror_mode": {
    "name": "ipython",
    "version": 3
   },
   "file_extension": ".py",
   "mimetype": "text/x-python",
   "name": "python",
   "nbconvert_exporter": "python",
   "pygments_lexer": "ipython3",
   "version": "3.6.3"
  }
 },
 "nbformat": 4,
 "nbformat_minor": 2
}
