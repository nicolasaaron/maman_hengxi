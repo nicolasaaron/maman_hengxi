{
 "cells": [
  {
   "cell_type": "code",
   "execution_count": 51,
   "metadata": {
    "collapsed": false,
    "scrolled": true
   },
   "outputs": [
    {
     "name": "stdout",
     "output_type": "stream",
     "text": [
      "WARNING *** file size (1538089) not 512 + multiple of sector size (512)\n"
     ]
    },
    {
     "data": {
      "text/plain": [
       "array(['属性', 'Unnamed: 1', 'Unnamed: 2', 'Unnamed: 3', 'Unnamed: 4',\n",
       "       'Unnamed: 5', 'Unnamed: 6', 'Unnamed: 7', 'Unnamed: 8',\n",
       "       'Unnamed: 9', 'Unnamed: 10', 'Unnamed: 11', 'Unnamed: 12',\n",
       "       'Unnamed: 13', 'Unnamed: 14', 'Unnamed: 15', 'Unnamed: 16', '入库统计',\n",
       "       'Unnamed: 18', 'Unnamed: 19', 'Unnamed: 20', 'Unnamed: 21',\n",
       "       'Unnamed: 22', 'Unnamed: 23', 'Unnamed: 24', 'Unnamed: 25',\n",
       "       'Unnamed: 26', 'Unnamed: 27', 'Unnamed: 28', 'Unnamed: 29',\n",
       "       'Unnamed: 30', 'Unnamed: 31', '出库统计', 'Unnamed: 33'], dtype=object)"
      ]
     },
     "execution_count": 51,
     "metadata": {},
     "output_type": "execute_result"
    }
   ],
   "source": [
    "import numpy as np\n",
    "import pandas as pd\n",
    "import xlrd\n",
    "import openpyxl\n",
    "\n",
    "import os\n",
    "type_name = '成品采购明细'\n",
    "folder_name = '成品采购明细/'\n",
    "\n",
    "if not os.path.exists('成品采购明细'):\n",
    "    os.makedirs('成品采购明细')\n",
    "\n",
    "input_filename = type_name +'.xls'\n",
    "output_filename = folder_name + type_name+ '_添加类别.xlsx'\n",
    "\n",
    "#df = pd.read_excel(input_filename, sheetname ='成品采购明细3月')\n",
    "df = pd.read_excel(input_filename, sheet_name = 0)\n",
    "df.columns.values"
   ]
  },
  {
   "cell_type": "code",
   "execution_count": 52,
   "metadata": {
    "collapsed": true
   },
   "outputs": [],
   "source": [
    "# 去除 出库统计 金额\n",
    "df.drop(['出库统计','Unnamed: 33'], axis=1, inplace = True)\n"
   ]
  },
  {
   "cell_type": "code",
   "execution_count": 53,
   "metadata": {
    "collapsed": false
   },
   "outputs": [
    {
     "data": {
      "text/plain": [
       "Index(['Unnamed: 8'], dtype='object')"
      ]
     },
     "execution_count": 53,
     "metadata": {},
     "output_type": "execute_result"
    }
   ],
   "source": [
    "names = df.loc[0,:]\n",
    "names[names == '类别名称'].index\n"
   ]
  },
  {
   "cell_type": "code",
   "execution_count": 54,
   "metadata": {
    "collapsed": false
   },
   "outputs": [
    {
     "data": {
      "text/plain": [
       "array(['类别名称', '花片', 'XG', 'XW', 'XT', 'W', 'WM', 'XF', 'PG', 'HNT', '浮雕',\n",
       "       'HNJ', '腰线', 'HDF', '古宝斯', '欧驰', '文具', 'HNG', 'HDJ', 'HNF', '纸箱',\n",
       "       'HTF', 'HM', 'HY', 'T', nan], dtype=object)"
      ]
     },
     "execution_count": 54,
     "metadata": {},
     "output_type": "execute_result"
    }
   ],
   "source": [
    "df.rename(index=str, columns={'Unnamed: 8': 'type_name'},inplace=True)\n",
    "df.type_name.unique()"
   ]
  },
  {
   "cell_type": "code",
   "execution_count": 55,
   "metadata": {
    "collapsed": true
   },
   "outputs": [],
   "source": [
    "df.rename(index=str, columns={'Unnamed: 9': 'pd_size'}, inplace = True)"
   ]
  },
  {
   "cell_type": "code",
   "execution_count": 56,
   "metadata": {
    "collapsed": false
   },
   "outputs": [
    {
     "data": {
      "text/plain": [
       "array(['属性', 'Unnamed: 1', 'Unnamed: 2', 'Unnamed: 3', 'Unnamed: 4',\n",
       "       'Unnamed: 5', 'Unnamed: 6', 'Unnamed: 7', 'type', 'type_name',\n",
       "       'pd_size', 'Unnamed: 10', 'Unnamed: 11', 'Unnamed: 12',\n",
       "       'Unnamed: 13', 'Unnamed: 14', 'Unnamed: 15', 'Unnamed: 16', '入库统计',\n",
       "       'Unnamed: 18', 'Unnamed: 19', 'Unnamed: 20', 'Unnamed: 21',\n",
       "       'Unnamed: 22', 'Unnamed: 23', 'Unnamed: 24', 'Unnamed: 25',\n",
       "       'Unnamed: 26', 'Unnamed: 27', 'Unnamed: 28', 'Unnamed: 29',\n",
       "       'Unnamed: 30', 'Unnamed: 31'], dtype=object)"
      ]
     },
     "execution_count": 56,
     "metadata": {},
     "output_type": "execute_result"
    }
   ],
   "source": [
    "df.insert(8,'type',df.type_name)\n",
    "df.columns.values"
   ]
  },
  {
   "cell_type": "code",
   "execution_count": 57,
   "metadata": {
    "collapsed": true
   },
   "outputs": [],
   "source": [
    "df.type[df.type_name == '类别名称'] = '类别'\n",
    "\n",
    "df.type[(df.type_name =='HDF') | (df.type_name == 'HDG') | (df.type_name == 'HDJ') | (df.type == 'HDT') ] = '地砖'\n",
    "df.type[df.type_name =='HM'] = '木纹砖'\n",
    "df.type[(df.type_name =='HNF') | (df.type_name == 'HNG') | (df.type_name == 'HNJ') | (df.type == 'HNT') ] = '瓷片'\n",
    "df.type[df.type_name =='HTF'] = '地砖'\n",
    "df.type[df.type_name == 'HW'] = '微晶'\n",
    "df.type[df.type_name == 'HY'] = '全抛釉'\n",
    "\n",
    "df.type[df.type_name == 'PG'] ='通体砖'\n",
    "df.type[(df.type_name == 'PG') & (df.pd_size == '300X300')] = '地砖'\n",
    "df.type[(df.type_name == 'PG') & (df.pd_size == '300X600')] = '瓷片'\n",
    "\n",
    "df.type[(df.type_name == 'P') | (df.type_name == 'T')] = '通体砖'\n",
    "df.type[(df.type_name == 'W') | (df.type_name == 'WM')] = '瓷片'\n",
    "df.type[df.type_name == 'XF'] = '地砖'\n",
    "df.type[(df.type_name == 'XG') | (df.type_name == 'XT') | (df.type_name == 'XW')] = '瓷片'\n",
    "df.type[df.type_name == 'H3S'] = '色晶砖'\n",
    "df.type[df.type_name == 'HS'] = '大理石'\n",
    "df.type[df.type_name == '浮雕'] = '浮雕'\n",
    "df.type[df.type_name == '文具'] = '五金仓'\n",
    "df.type[df.type_name == '花片'] = '花片'\n",
    "df.type[df.type_name == '欧驰'] = '欧驰'\n",
    "df.type[df.type_name == '腰线'] = '腰线'\n",
    "df.type[df.type_name == '纸箱'] = '纸箱'"
   ]
  },
  {
   "cell_type": "code",
   "execution_count": 58,
   "metadata": {
    "collapsed": false
   },
   "outputs": [
    {
     "name": "stdout",
     "output_type": "stream",
     "text": [
      "type\n",
      "五金仓      16\n",
      "全抛釉       2\n",
      "古宝斯       5\n",
      "地砖      264\n",
      "木纹砖       4\n",
      "欧驰       23\n",
      "浮雕        4\n",
      "瓷片     1785\n",
      "类别        1\n",
      "纸箱        3\n",
      "腰线       30\n",
      "花片       48\n",
      "通体砖      19\n",
      "Name: type, dtype: int64\n"
     ]
    }
   ],
   "source": [
    "print(df.groupby('type').type.agg('count'))"
   ]
  },
  {
   "cell_type": "code",
   "execution_count": 59,
   "metadata": {
    "collapsed": true
   },
   "outputs": [],
   "source": [
    "#modified output\n",
    "output_df = df.copy(deep=True)\n",
    "output_df.columns = output_df.iloc[0,:]\n",
    "output_df.drop(['0'], axis=0,inplace = True)\n",
    "output_df.set_index('单号',inplace = True)\n",
    "\n",
    "writer = pd.ExcelWriter(output_filename) #creates instance of an excel workboo\n",
    "output_df.to_excel(writer,'sheet1') #creates workbook \n",
    "writer.save() #saves workbook to file in python file directory"
   ]
  },
  {
   "cell_type": "code",
   "execution_count": 60,
   "metadata": {
    "collapsed": false
   },
   "outputs": [
    {
     "data": {
      "text/plain": [
       "['广西恒希建材有限公司',\n",
       " '壹号工匠瓷砖胶',\n",
       " '澳琪腰线厂B（发外加工）',\n",
       " '古宝斯',\n",
       " '欧驰建材有限公司',\n",
       " '外购',\n",
       " '湖兴仓',\n",
       " '润驰陶瓷',\n",
       " '新顺兴陶瓷有限公司',\n",
       " '佛山市博今科技材料有限公司',\n",
       " '']"
      ]
     },
     "execution_count": 60,
     "metadata": {},
     "output_type": "execute_result"
    }
   ],
   "source": [
    "df2 = output_df.copy(deep=True)\n",
    "df2.replace(np.nan,'',regex = True, inplace = True)\n",
    "output_file_list = list(df2['供应商名'].unique())\n",
    "output_file_list"
   ]
  },
  {
   "cell_type": "code",
   "execution_count": 61,
   "metadata": {
    "collapsed": false
   },
   "outputs": [
    {
     "name": "stdout",
     "output_type": "stream",
     "text": [
      "佛山市博今科技材料有限公司\n",
      "古宝斯\n",
      "壹号工匠瓷砖胶\n",
      "外购\n",
      "广西恒希建材有限公司\n",
      "新顺兴陶瓷有限公司\n",
      "欧驰建材有限公司\n",
      "润驰陶瓷\n",
      "湖兴仓\n",
      "澳琪腰线厂B（发外加工）\n"
     ]
    }
   ],
   "source": [
    "\n",
    "for key, sub_df in df2.groupby('供应商名'):\n",
    "    if key != '':\n",
    "        print(key)\n",
    "        sub_df = sub_df.apply(pd.to_numeric,errors='ignore')\n",
    "        grouped = pd.concat([ sub_df.groupby('类别')['金额'].agg(np.sum),\n",
    "                              sub_df.groupby('类别')['加工金额'].agg(np.sum),\n",
    "                              sub_df.groupby('类别')['装车金额'].agg(np.sum),\n",
    "                              sub_df.groupby('类别')['纸箱金额'].agg(np.sum),\n",
    "                              sub_df.groupby('类别')['总金额'].agg(np.sum)],\n",
    "                            axis = 1)\n",
    "        \n",
    "        grouped.loc[grouped.shape[0]] = grouped.sum()\n",
    "        grouped.rename(index = {grouped.shape[0]-1: '总计'}, inplace = True)\n",
    "        \n",
    "        output_filename = folder_name+'/summary_'+key+'.xlsx'\n",
    "        writer = pd.ExcelWriter(output_filename) #creates instance of an excel workboo\n",
    "        grouped.to_excel(writer,startrow = 1, sheet_name= 'sheet1') #creates workbook \n",
    "        \n",
    "        # handle the spreadsheet format\n",
    "        workbook = writer.book\n",
    "        worksheet = writer.sheets['sheet1']\n",
    "        \n",
    "        percent_fmt = workbook.add_format({'num_format': '0.00'})\n",
    "        worksheet.set_column('B:F', None, percent_fmt)\n",
    "        \n",
    "        header_format = workbook.add_format({'bold': True,'text_wrap': True,\n",
    "                                             'align': 'center',\n",
    "                                             'valign': 'vcenter',\n",
    "                                             'fg_color': '#D7E4BC', 'border': 1})\n",
    "        worksheet.merge_range('A1:F1',key,header_format)\n",
    "                \n",
    "\n",
    "        \n",
    "        writer.save() #saves workbook to file in python file directory\n",
    "    "
   ]
  },
  {
   "cell_type": "code",
   "execution_count": 64,
   "metadata": {
    "collapsed": false
   },
   "outputs": [
    {
     "name": "stdout",
     "output_type": "stream",
     "text": [
      "供应商名\n",
      "佛山市博今科技材料有限公司       4200.00\n",
      "古宝斯                31462.50\n",
      "壹号工匠瓷砖胶             2400.00\n",
      "外购                   277.90\n",
      "广西恒希建材有限公司       1863131.19\n",
      "新顺兴陶瓷有限公司            622.50\n",
      "欧驰建材有限公司           40436.70\n",
      "润驰陶瓷                6060.00\n",
      "湖兴仓                 4937.40\n",
      "澳琪腰线厂B（发外加工）       49600.60\n",
      "合计总数             2003128.79\n",
      "Name: 总金额, dtype: float64\n"
     ]
    }
   ],
   "source": [
    "# 入库统计\n",
    "\n",
    "grouped = df2.groupby('供应商名')['总金额'].agg(np.sum)\n",
    "grouped.drop([''], inplace = True)\n",
    "grouped.loc[grouped.shape[0]] = grouped.sum()\n",
    "grouped.rename(index = {grouped.shape[0]-1: '合计总数'}, inplace = True)\n",
    "        \n",
    "output_filename = folder_name+'/统计入库_供应商_总金额.xlsx'\n",
    "writer = pd.ExcelWriter(output_filename) #creates instance of an excel workboo\n",
    "grouped.to_excel(writer,'sheet1') #creates workbook \n",
    "\n",
    "workbook = writer.book\n",
    "worksheet = writer.sheets['sheet1']\n",
    "\n",
    "percent_fmt = workbook.add_format({'num_format': '0.00'})\n",
    "worksheet.set_column('B:B', None, percent_fmt)\n",
    "header_format = workbook.add_format({'bold': True,'text_wrap': True,\n",
    "                                             'align': 'center',\n",
    "                                             'valign': 'vcenter',\n",
    "                                             'fg_color': '#D7E4BC', 'border': 1})\n",
    "worksheet.merge_range('A1:B1','入库统计总金额',header_format)\n",
    "           \n",
    "\n",
    "writer.save() #saves workbook to file in python file directory\n",
    "\n",
    "\n",
    "print(grouped)"
   ]
  },
  {
   "cell_type": "code",
   "execution_count": 63,
   "metadata": {
    "collapsed": false
   },
   "outputs": [
    {
     "name": "stdout",
     "output_type": "stream",
     "text": [
      "success\n"
     ]
    }
   ],
   "source": [
    "print('success')"
   ]
  }
 ],
 "metadata": {
  "kernelspec": {
   "display_name": "Python 3",
   "language": "python",
   "name": "python3"
  },
  "language_info": {
   "codemirror_mode": {
    "name": "ipython",
    "version": 3
   },
   "file_extension": ".py",
   "mimetype": "text/x-python",
   "name": "python",
   "nbconvert_exporter": "python",
   "pygments_lexer": "ipython3",
   "version": "3.6.0"
  }
 },
 "nbformat": 4,
 "nbformat_minor": 2
}
