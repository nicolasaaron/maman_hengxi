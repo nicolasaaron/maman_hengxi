{
 "cells": [
  {
   "cell_type": "code",
   "execution_count": 1,
   "metadata": {
    "collapsed": false,
    "scrolled": true
   },
   "outputs": [
    {
     "data": {
      "text/plain": [
       "array(['属性', 'Unnamed: 1', 'Unnamed: 2', 'Unnamed: 3', 'Unnamed: 4',\n",
       "       'Unnamed: 5', 'Unnamed: 6', 'Unnamed: 7', 'Unnamed: 8',\n",
       "       'Unnamed: 9', 'Unnamed: 10', 'Unnamed: 11', 'Unnamed: 12',\n",
       "       'Unnamed: 13', 'Unnamed: 14', 'Unnamed: 15', 'Unnamed: 16',\n",
       "       'Unnamed: 17', '入库统计', 'Unnamed: 19', 'Unnamed: 20', 'Unnamed: 21',\n",
       "       'Unnamed: 22', 'Unnamed: 23', 'Unnamed: 24', 'Unnamed: 25',\n",
       "       'Unnamed: 26', 'Unnamed: 27', 'Unnamed: 28', 'Unnamed: 29',\n",
       "       'Unnamed: 30', 'Unnamed: 31', 'Unnamed: 32', '出库统计', 'Unnamed: 34'], dtype=object)"
      ]
     },
     "execution_count": 1,
     "metadata": {},
     "output_type": "execute_result"
    }
   ],
   "source": [
    "import numpy as np\n",
    "import pandas as pd\n",
    "import xlrd\n",
    "import openpyxl\n",
    "\n",
    "import os\n",
    "type_name = '成品采购明细'\n",
    "folder_name = '成品采购明细/'\n",
    "\n",
    "if not os.path.exists('成品采购明细'):\n",
    "    os.makedirs('成品采购明细')\n",
    "\n",
    "input_filename = type_name +'.xls'\n",
    "output_filename = folder_name + type_name+ '_添加类别.xlsx'\n",
    "\n",
    "#df = pd.read_excel(input_filename, sheetname ='成品采购明细4月')\n",
    "df = pd.read_excel(input_filename, sheet_name = 0)\n",
    "df.columns.values"
   ]
  },
  {
   "cell_type": "code",
   "execution_count": 2,
   "metadata": {
    "collapsed": false,
    "scrolled": true
   },
   "outputs": [
    {
     "name": "stdout",
     "output_type": "stream",
     "text": [
      "['单号', '日期', '业务类型', '供应商', '供应商名', '仓库名称', '备注', '产品编号', '产品名称', '类别名称', '规格', '庄数', '色号', '等级', '品牌', '包装', '单位', '单价', '数量(片)', '金额', '卸车单价', '卸车金额', '运输单价', '运输金额', '折让单价', '折让金额', '加工单价', '加工金额', '纸箱单价', '纸箱数量', '纸箱金额', '装车金额', '总金额', '数量(片)', '金额'] \n",
      "\n",
      "['属性', 'Unnamed: 1', 'Unnamed: 2', 'Unnamed: 3', 'Unnamed: 4', 'Unnamed: 5', 'Unnamed: 6', 'Unnamed: 7', 'Unnamed: 8', 'Unnamed: 9', 'Unnamed: 10', 'Unnamed: 11', 'Unnamed: 12', 'Unnamed: 13', 'Unnamed: 14', 'Unnamed: 15', 'Unnamed: 16', 'Unnamed: 17', '入库统计', 'Unnamed: 19', 'Unnamed: 20', 'Unnamed: 21', 'Unnamed: 22', 'Unnamed: 23', 'Unnamed: 24', 'Unnamed: 25', 'Unnamed: 26', 'Unnamed: 27', 'Unnamed: 28', 'Unnamed: 29', 'Unnamed: 30', 'Unnamed: 31', 'Unnamed: 32', '出库统计', 'Unnamed: 34'] \n",
      "\n",
      "出库统计\n",
      "Unnamed: 34\n"
     ]
    }
   ],
   "source": [
    "# 去除 出库统计 金额\n",
    "tag_names = list(df.iloc[0])\n",
    "print(tag_names,'\\n')\n",
    "col_names = list(df.columns.values)\n",
    "print(col_names,'\\n')\n",
    "\n",
    "#idx_typename = tag_names.index('类别名称')\n",
    "#str_typename = col_names[idx_typename]\n",
    "#print(str_typename,'\\n')\n",
    "\n",
    "idx_delivery = col_names.index('出库统计')\n",
    "str_delivery_1= col_names[idx_delivery]\n",
    "str_delivery_2 = col_names[idx_delivery +1]\n",
    "\n",
    "print(str_delivery_1)\n",
    "print(str_delivery_2)\n",
    "\n",
    "df.drop([str_delivery_1,str_delivery_2], axis=1, inplace = True)\n"
   ]
  },
  {
   "cell_type": "code",
   "execution_count": 3,
   "metadata": {
    "collapsed": false
   },
   "outputs": [],
   "source": [
    "#names = df.loc[0,:]\n",
    "#print(names[names == '类别名称'].index)\n",
    "#print(names)"
   ]
  },
  {
   "cell_type": "code",
   "execution_count": 4,
   "metadata": {
    "collapsed": false
   },
   "outputs": [
    {
     "name": "stdout",
     "output_type": "stream",
     "text": [
      "Unnamed: 9 \n",
      "\n",
      "Unnamed: 10 \n",
      "\n",
      "['属性' 'Unnamed: 1' 'Unnamed: 2' 'Unnamed: 3' 'Unnamed: 4' 'Unnamed: 5'\n",
      " 'Unnamed: 6' 'Unnamed: 7' 'Unnamed: 8' 'type_name' 'pd_size' 'Unnamed: 11'\n",
      " 'Unnamed: 12' 'Unnamed: 13' 'Unnamed: 14' 'Unnamed: 15' 'Unnamed: 16'\n",
      " 'Unnamed: 17' '入库统计' 'Unnamed: 19' 'Unnamed: 20' 'Unnamed: 21'\n",
      " 'Unnamed: 22' 'Unnamed: 23' 'Unnamed: 24' 'Unnamed: 25' 'Unnamed: 26'\n",
      " 'Unnamed: 27' 'Unnamed: 28' 'Unnamed: 29' 'Unnamed: 30' 'Unnamed: 31'\n",
      " 'Unnamed: 32'] \n",
      "\n"
     ]
    },
    {
     "data": {
      "text/plain": [
       "array(['属性', 'Unnamed: 1', 'Unnamed: 2', 'Unnamed: 3', 'Unnamed: 4',\n",
       "       'Unnamed: 5', 'Unnamed: 6', 'Unnamed: 7', 'Unnamed: 8', 'type',\n",
       "       'type_name', 'pd_size', 'Unnamed: 11', 'Unnamed: 12', 'Unnamed: 13',\n",
       "       'Unnamed: 14', 'Unnamed: 15', 'Unnamed: 16', 'Unnamed: 17', '入库统计',\n",
       "       'Unnamed: 19', 'Unnamed: 20', 'Unnamed: 21', 'Unnamed: 22',\n",
       "       'Unnamed: 23', 'Unnamed: 24', 'Unnamed: 25', 'Unnamed: 26',\n",
       "       'Unnamed: 27', 'Unnamed: 28', 'Unnamed: 29', 'Unnamed: 30',\n",
       "       'Unnamed: 31', 'Unnamed: 32'], dtype=object)"
      ]
     },
     "execution_count": 4,
     "metadata": {},
     "output_type": "execute_result"
    }
   ],
   "source": [
    "#重命名\"类别名称\"所在列 的标签\n",
    "tag_names = list(df.iloc[0])\n",
    "col_names = list(df.columns.values)\n",
    "\n",
    "idx_typename = tag_names.index('类别名称')\n",
    "str_typename = col_names[idx_typename]\n",
    "print(str_typename,'\\n')\n",
    "\n",
    "df.rename(index=str, columns={str_typename: 'type_name'},inplace=True)\n",
    "df.type_name.unique()\n",
    "\n",
    "str_typesize = col_names[idx_typename + 1]\n",
    "print(str_typesize, '\\n')\n",
    "\n",
    "df.rename(index=str, columns={str_typesize: 'pd_size'}, inplace = True)\n",
    "\n",
    "# 添加一列，命名为 type\n",
    "print(df.columns.values,'\\n')\n",
    "df.insert(idx_typename,'type',df.type_name)\n",
    "df.columns.values"
   ]
  },
  {
   "cell_type": "code",
   "execution_count": 5,
   "metadata": {
    "collapsed": true
   },
   "outputs": [],
   "source": [
    "df.type[df.type_name == '类别名称'] = '类别'\n",
    "\n",
    "df.type[(df.type_name =='HDF') | (df.type_name == 'HDG') | (df.type_name == 'HDJ') | (df.type == 'HDT') ] = '地砖'\n",
    "df.type[df.type_name =='HM'] = '木纹砖'\n",
    "df.type[(df.type_name =='HNF') | (df.type_name == 'HNG') | (df.type_name == 'HNJ') | (df.type == 'HNT') ] = '瓷片'\n",
    "df.type[df.type_name =='HTF'] = '地砖'\n",
    "df.type[df.type_name == 'HW'] = '微晶'\n",
    "df.type[df.type_name == 'HY'] = '全抛釉'\n",
    "\n",
    "df.type[df.type_name == 'PG'] ='通体砖'\n",
    "df.type[(df.type_name == 'PG') & (df.pd_size == '300X300')] = '地砖'\n",
    "df.type[(df.type_name == 'PG') & (df.pd_size == '300X600')] = '瓷片'\n",
    "\n",
    "df.type[(df.type_name == 'P') | (df.type_name == 'T')] = '通体砖'\n",
    "df.type[(df.type_name == 'W') | (df.type_name == 'WM')] = '瓷片'\n",
    "df.type[df.type_name == 'XF'] = '地砖'\n",
    "df.type[(df.type_name == 'XG') | (df.type_name == 'XT') | (df.type_name == 'XW')] = '瓷片'\n",
    "df.type[df.type_name == 'H3S'] = '色晶砖'\n",
    "df.type[df.type_name == 'HS'] = '大理石'\n",
    "df.type[df.type_name == '浮雕'] = '浮雕'\n",
    "df.type[df.type_name == '文具'] = '五金仓'\n",
    "df.type[df.type_name == '花片'] = '花片'\n",
    "df.type[df.type_name == '欧驰'] = '欧驰'\n",
    "df.type[df.type_name == '腰线'] = '腰线'\n",
    "df.type[df.type_name == '纸箱'] = '纸箱'\n",
    "\n",
    "df.type[df.type_name == 'HNW'] = '镜面砖'"
   ]
  },
  {
   "cell_type": "code",
   "execution_count": 6,
   "metadata": {
    "collapsed": false
   },
   "outputs": [
    {
     "name": "stdout",
     "output_type": "stream",
     "text": [
      "type\n",
      "HNW       25\n",
      "五金仓       32\n",
      "其它费用       2\n",
      "古宝斯        2\n",
      "地砖       244\n",
      "展美         2\n",
      "木纹砖       10\n",
      "欧驰        39\n",
      "浮雕         4\n",
      "瓷片      1835\n",
      "祥达         1\n",
      "类别         1\n",
      "腰线        12\n",
      "花片        21\n",
      "通体砖       27\n",
      "Name: type, dtype: int64\n"
     ]
    }
   ],
   "source": [
    "print(df.groupby('type').type.agg('count'))"
   ]
  },
  {
   "cell_type": "code",
   "execution_count": 7,
   "metadata": {
    "collapsed": true
   },
   "outputs": [],
   "source": [
    "#modified output\n",
    "output_df = df.copy(deep=True)\n",
    "output_df.columns = output_df.iloc[0,:]\n",
    "output_df.drop(['0'], axis=0,inplace = True)\n",
    "output_df.set_index('单号',inplace = True)\n",
    "\n",
    "writer = pd.ExcelWriter(output_filename) #creates instance of an excel workboo\n",
    "output_df.to_excel(writer,'sheet1') #creates workbook \n",
    "writer.save() #saves workbook to file in python file directory"
   ]
  },
  {
   "cell_type": "code",
   "execution_count": 8,
   "metadata": {
    "collapsed": false
   },
   "outputs": [
    {
     "data": {
      "text/plain": [
       "['广西恒希建材有限公司',\n",
       " '澳琪腰线厂B（发外加工）',\n",
       " '壹号工匠瓷砖胶',\n",
       " '欧驰建材有限公司',\n",
       " '展美陶瓷',\n",
       " '湖兴仓',\n",
       " '外购',\n",
       " '润驰陶瓷',\n",
       " '古宝斯',\n",
       " '祥达',\n",
       " '佛山市博今科技材料有限公司',\n",
       " '新顺兴陶瓷有限公司',\n",
       " '']"
      ]
     },
     "execution_count": 8,
     "metadata": {},
     "output_type": "execute_result"
    }
   ],
   "source": [
    "df2 = output_df.copy(deep=True)\n",
    "df2.replace(np.nan,'',regex = True, inplace = True)\n",
    "output_file_list = list(df2['供应商名'].unique())\n",
    "output_file_list"
   ]
  },
  {
   "cell_type": "code",
   "execution_count": 9,
   "metadata": {
    "collapsed": false
   },
   "outputs": [
    {
     "name": "stdout",
     "output_type": "stream",
     "text": [
      "佛山市博今科技材料有限公司\n",
      "古宝斯\n",
      "壹号工匠瓷砖胶\n",
      "外购\n",
      "展美陶瓷\n",
      "广西恒希建材有限公司\n",
      "新顺兴陶瓷有限公司\n",
      "欧驰建材有限公司\n",
      "润驰陶瓷\n",
      "湖兴仓\n",
      "澳琪腰线厂B（发外加工）\n",
      "祥达\n"
     ]
    }
   ],
   "source": [
    "\n",
    "for key, sub_df in df2.groupby('供应商名'):\n",
    "    if key != '':\n",
    "        print(key)\n",
    "        sub_df = sub_df.apply(pd.to_numeric,errors='ignore')\n",
    "        grouped = pd.concat([ sub_df.groupby('类别')['金额'].agg(np.sum),\n",
    "                              sub_df.groupby('类别')['加工金额'].agg(np.sum),\n",
    "                              sub_df.groupby('类别')['装车金额'].agg(np.sum),\n",
    "                              sub_df.groupby('类别')['纸箱金额'].agg(np.sum),\n",
    "                              sub_df.groupby('类别')['总金额'].agg(np.sum)],\n",
    "                            axis = 1)\n",
    "        \n",
    "        grouped.loc[grouped.shape[0]] = grouped.sum()\n",
    "        grouped.rename(index = {grouped.shape[0]-1: '总计'}, inplace = True)\n",
    "        \n",
    "        output_filename = folder_name+'/summary_'+key+'.xlsx'\n",
    "        writer = pd.ExcelWriter(output_filename) #creates instance of an excel workboo\n",
    "        grouped.to_excel(writer,startrow = 1, sheet_name= 'sheet1') #creates workbook \n",
    "        \n",
    "        # handle the spreadsheet format\n",
    "        workbook = writer.book\n",
    "        worksheet = writer.sheets['sheet1']\n",
    "        \n",
    "        percent_fmt = workbook.add_format({'num_format': '0.00'})\n",
    "        worksheet.set_column('B:F', None, percent_fmt)\n",
    "        \n",
    "        header_format = workbook.add_format({'bold': True,'text_wrap': True,\n",
    "                                             'align': 'center',\n",
    "                                             'valign': 'vcenter',\n",
    "                                             'fg_color': '#D7E4BC', 'border': 1})\n",
    "        worksheet.merge_range('A1:F1',key,header_format)\n",
    "                \n",
    "\n",
    "        \n",
    "        writer.save() #saves workbook to file in python file directory\n",
    "    "
   ]
  },
  {
   "cell_type": "code",
   "execution_count": 10,
   "metadata": {
    "collapsed": false
   },
   "outputs": [
    {
     "name": "stdout",
     "output_type": "stream",
     "text": [
      "供应商名\n",
      "佛山市博今科技材料有限公司       2280.00\n",
      "古宝斯                 5053.00\n",
      "壹号工匠瓷砖胶             4800.00\n",
      "外购                  3197.60\n",
      "展美陶瓷                1188.00\n",
      "广西恒希建材有限公司       2148967.09\n",
      "新顺兴陶瓷有限公司           2821.00\n",
      "欧驰建材有限公司           21104.90\n",
      "润驰陶瓷                6060.00\n",
      "湖兴仓                 9165.50\n",
      "澳琪腰线厂B（发外加工）       20789.75\n",
      "祥达                  4850.80\n",
      "合计总数             2230277.64\n",
      "Name: 总金额, dtype: float64\n"
     ]
    }
   ],
   "source": [
    "# 入库统计\n",
    "\n",
    "grouped = df2.groupby('供应商名')['总金额'].agg(np.sum)\n",
    "grouped.drop([''], inplace = True)\n",
    "grouped.loc[grouped.shape[0]] = grouped.sum()\n",
    "grouped.rename(index = {grouped.shape[0]-1: '合计总数'}, inplace = True)\n",
    "        \n",
    "output_filename = folder_name+'/统计入库_供应商_总金额.xlsx'\n",
    "writer = pd.ExcelWriter(output_filename) #creates instance of an excel workboo\n",
    "grouped.to_excel(writer,'sheet1') #creates workbook \n",
    "\n",
    "workbook = writer.book\n",
    "worksheet = writer.sheets['sheet1']\n",
    "\n",
    "percent_fmt = workbook.add_format({'num_format': '0.00'})\n",
    "worksheet.set_column('B:B', None, percent_fmt)\n",
    "header_format = workbook.add_format({'bold': True,'text_wrap': True,\n",
    "                                             'align': 'center',\n",
    "                                             'valign': 'vcenter',\n",
    "                                             'fg_color': '#D7E4BC', 'border': 1})\n",
    "worksheet.merge_range('A1:B1','入库统计总金额',header_format)\n",
    "           \n",
    "\n",
    "writer.save() #saves workbook to file in python file directory\n",
    "\n",
    "\n",
    "print(grouped)"
   ]
  },
  {
   "cell_type": "code",
   "execution_count": 11,
   "metadata": {
    "collapsed": false
   },
   "outputs": [
    {
     "name": "stdout",
     "output_type": "stream",
     "text": [
      "success\n"
     ]
    }
   ],
   "source": [
    "print('success')"
   ]
  }
 ],
 "metadata": {
  "kernelspec": {
   "display_name": "Python 3",
   "language": "python",
   "name": "python3"
  },
  "language_info": {
   "codemirror_mode": {
    "name": "ipython",
    "version": 3
   },
   "file_extension": ".py",
   "mimetype": "text/x-python",
   "name": "python",
   "nbconvert_exporter": "python",
   "pygments_lexer": "ipython3",
   "version": "3.6.0"
  }
 },
 "nbformat": 4,
 "nbformat_minor": 2
}
