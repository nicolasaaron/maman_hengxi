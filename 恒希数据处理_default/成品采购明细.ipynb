{
 "cells": [
  {
   "cell_type": "code",
   "execution_count": 1,
   "metadata": {
    "scrolled": true
   },
   "outputs": [
    {
     "name": "stdout",
     "output_type": "stream",
     "text": [
      "WARNING *** file size (1080650) not 512 + multiple of sector size (512)\n"
     ]
    },
    {
     "data": {
      "text/plain": [
       "array(['属性', 'Unnamed: 1', 'Unnamed: 2', 'Unnamed: 3', 'Unnamed: 4',\n",
       "       'Unnamed: 5', 'Unnamed: 6', 'Unnamed: 7', 'Unnamed: 8',\n",
       "       'Unnamed: 9', 'Unnamed: 10', 'Unnamed: 11', 'Unnamed: 12',\n",
       "       'Unnamed: 13', 'Unnamed: 14', 'Unnamed: 15', 'Unnamed: 16', '入库统计',\n",
       "       'Unnamed: 18', 'Unnamed: 19', 'Unnamed: 20', 'Unnamed: 21',\n",
       "       'Unnamed: 22', 'Unnamed: 23', 'Unnamed: 24', 'Unnamed: 25',\n",
       "       'Unnamed: 26', 'Unnamed: 27', 'Unnamed: 28', 'Unnamed: 29',\n",
       "       'Unnamed: 30', 'Unnamed: 31', '出库统计', 'Unnamed: 33'], dtype=object)"
      ]
     },
     "execution_count": 1,
     "metadata": {},
     "output_type": "execute_result"
    }
   ],
   "source": [
    "import numpy as np\n",
    "import pandas as pd\n",
    "import xlrd\n",
    "import openpyxl\n",
    "\n",
    "import os\n",
    "folder_name = '成品采购明细/'\n",
    "if not os.path.exists('成品采购明细'):\n",
    "    os.makedirs('成品采购明细')\n",
    "\n",
    "\n",
    "month_name = '成品采购明细'\n",
    "input_filename = month_name +'.xls'\n",
    "output_filename = folder_name + month_name+ '_添加类别.xlsx'\n",
    "\n",
    "df = pd.read_excel(input_filename, sheetname ='成品采购明细1月')\n",
    "df.columns.values"
   ]
  },
  {
   "cell_type": "code",
   "execution_count": 2,
   "metadata": {
    "collapsed": true
   },
   "outputs": [],
   "source": [
    "# 去除 出库统计 金额\n",
    "df.drop(['出库统计','Unnamed: 33'], axis=1, inplace = True)\n"
   ]
  },
  {
   "cell_type": "code",
   "execution_count": 3,
   "metadata": {},
   "outputs": [
    {
     "data": {
      "text/plain": [
       "Index(['Unnamed: 8'], dtype='object')"
      ]
     },
     "execution_count": 3,
     "metadata": {},
     "output_type": "execute_result"
    }
   ],
   "source": [
    "names = df.loc[0,:]\n",
    "names[names == '类别名称'].index\n"
   ]
  },
  {
   "cell_type": "code",
   "execution_count": 4,
   "metadata": {},
   "outputs": [
    {
     "data": {
      "text/plain": [
       "array(['类别名称', 'XG', 'W', 'XF', 'XW', 'WM', 'HNJ', 'HDF', 'PG', '文具', '腰线',\n",
       "       '浮雕', '花片', 'HNG', 'XT', '欧驰', 'HNT', 'HNF', 'HDJ', 'HDT', 'HM',\n",
       "       'HTF', '纸箱', '古宝斯', 'HY', '其它费用', nan], dtype=object)"
      ]
     },
     "execution_count": 4,
     "metadata": {},
     "output_type": "execute_result"
    }
   ],
   "source": [
    "df.rename(index=str, columns={'Unnamed: 8': 'type_name'},inplace=True)\n",
    "df.type_name.unique()"
   ]
  },
  {
   "cell_type": "code",
   "execution_count": 5,
   "metadata": {
    "collapsed": true
   },
   "outputs": [],
   "source": [
    "df.rename(index=str, columns={'Unnamed: 9': 'pd_size'}, inplace = True)"
   ]
  },
  {
   "cell_type": "code",
   "execution_count": 6,
   "metadata": {},
   "outputs": [
    {
     "data": {
      "text/plain": [
       "array(['属性', 'Unnamed: 1', 'Unnamed: 2', 'Unnamed: 3', 'Unnamed: 4',\n",
       "       'Unnamed: 5', 'Unnamed: 6', 'Unnamed: 7', 'type', 'type_name',\n",
       "       'pd_size', 'Unnamed: 10', 'Unnamed: 11', 'Unnamed: 12',\n",
       "       'Unnamed: 13', 'Unnamed: 14', 'Unnamed: 15', 'Unnamed: 16', '入库统计',\n",
       "       'Unnamed: 18', 'Unnamed: 19', 'Unnamed: 20', 'Unnamed: 21',\n",
       "       'Unnamed: 22', 'Unnamed: 23', 'Unnamed: 24', 'Unnamed: 25',\n",
       "       'Unnamed: 26', 'Unnamed: 27', 'Unnamed: 28', 'Unnamed: 29',\n",
       "       'Unnamed: 30', 'Unnamed: 31'], dtype=object)"
      ]
     },
     "execution_count": 6,
     "metadata": {},
     "output_type": "execute_result"
    }
   ],
   "source": [
    "df.insert(8,'type',df.type_name)\n",
    "df.columns.values"
   ]
  },
  {
   "cell_type": "code",
   "execution_count": 7,
   "metadata": {
    "collapsed": true
   },
   "outputs": [],
   "source": [
    "df.type[df.type_name == '类别名称'] = '类别'\n",
    "\n",
    "df.type[(df.type_name =='HDF') | (df.type_name == 'HDG') | (df.type_name == 'HDJ') | (df.type == 'HDT') ] = '地砖'\n",
    "df.type[df.type_name =='HM'] = '木纹砖'\n",
    "df.type[(df.type_name =='HNF') | (df.type_name == 'HNG') | (df.type_name == 'HNJ') | (df.type == 'HNT') ] = '瓷片'\n",
    "df.type[df.type_name =='HTF'] = '地砖'\n",
    "df.type[df.type_name == 'HW'] = '微晶'\n",
    "df.type[df.type_name == 'HY'] = '全抛釉'\n",
    "\n",
    "df.type[df.type_name == 'PG'] ='通体砖'\n",
    "df.type[(df.type_name == 'PG') & (df.pd_size == '300X300')] = '地砖'\n",
    "df.type[(df.type_name == 'PG') & (df.pd_size == '300X600')] = '瓷片'\n",
    "\n",
    "df.type[(df.type_name == 'P') | (df.type_name == 'T')] = '通体砖'\n",
    "df.type[(df.type_name == 'W') | (df.type_name == 'WM')] = '瓷片'\n",
    "df.type[df.type_name == 'XF'] = '地砖'\n",
    "df.type[(df.type_name == 'XG') | (df.type_name == 'XT') | (df.type_name == 'XW')] = '瓷片'\n",
    "df.type[df.type_name == 'H3S'] = '色晶砖'\n",
    "df.type[df.type_name == 'HS'] = '大理石'\n",
    "df.type[df.type_name == '浮雕'] = '浮雕'\n",
    "df.type[df.type_name == '文具'] = '五金仓'\n",
    "df.type[df.type_name == '花片'] = '花片'\n",
    "df.type[df.type_name == '欧驰'] = '欧驰'\n",
    "df.type[df.type_name == '腰线'] = '腰线'\n",
    "df.type[df.type_name == '纸箱'] = '纸箱'"
   ]
  },
  {
   "cell_type": "code",
   "execution_count": 8,
   "metadata": {},
   "outputs": [
    {
     "name": "stdout",
     "output_type": "stream",
     "text": [
      "type\n",
      "五金仓       24\n",
      "全抛釉        4\n",
      "其它费用       2\n",
      "古宝斯        4\n",
      "地砖       187\n",
      "木纹砖        3\n",
      "欧驰        13\n",
      "浮雕         3\n",
      "瓷片      1231\n",
      "类别         1\n",
      "纸箱         1\n",
      "腰线        20\n",
      "花片        39\n",
      "通体砖       12\n",
      "Name: type, dtype: int64\n"
     ]
    }
   ],
   "source": [
    "print(df.groupby('type').type.agg('count'))"
   ]
  },
  {
   "cell_type": "code",
   "execution_count": 9,
   "metadata": {
    "collapsed": true
   },
   "outputs": [],
   "source": [
    "#modified output\n",
    "output_df = df.copy(deep=True)\n",
    "output_df.columns = output_df.iloc[0,:]\n",
    "output_df.drop(['0'], axis=0,inplace = True)\n",
    "output_df.set_index('单号',inplace = True)\n",
    "\n",
    "\n",
    "\n",
    "writer = pd.ExcelWriter(output_filename) #creates instance of an excel workboo\n",
    "output_df.to_excel(writer,'sheet1') #creates workbook \n",
    "writer.save() #saves workbook to file in python file directory"
   ]
  },
  {
   "cell_type": "code",
   "execution_count": 10,
   "metadata": {},
   "outputs": [
    {
     "data": {
      "text/plain": [
       "['广西恒希建材有限公司',\n",
       " '佛山市博今科技材料有限公司',\n",
       " '澳琪腰线厂B（发外加工）',\n",
       " '欧驰建材有限公司',\n",
       " '湖兴仓',\n",
       " '外购',\n",
       " '古宝斯',\n",
       " '新顺兴陶瓷有限公司',\n",
       " '百顺达陶瓷有限公司',\n",
       " '壹号工匠瓷砖胶',\n",
       " '']"
      ]
     },
     "execution_count": 10,
     "metadata": {},
     "output_type": "execute_result"
    }
   ],
   "source": [
    "df2 = output_df.copy(deep=True)\n",
    "df2.replace(np.nan,'',regex = True, inplace = True)\n",
    "output_file_list = list(df2['供应商名'].unique())\n",
    "output_file_list"
   ]
  },
  {
   "cell_type": "code",
   "execution_count": 33,
   "metadata": {},
   "outputs": [
    {
     "name": "stdout",
     "output_type": "stream",
     "text": [
      "佛山市博今科技材料有限公司\n",
      "古宝斯\n",
      "壹号工匠瓷砖胶\n",
      "外购\n",
      "广西恒希建材有限公司\n",
      "新顺兴陶瓷有限公司\n",
      "欧驰建材有限公司\n",
      "湖兴仓\n",
      "澳琪腰线厂B（发外加工）\n",
      "百顺达陶瓷有限公司\n"
     ]
    }
   ],
   "source": [
    "\n",
    "for key, sub_df in df2.groupby('供应商名'):\n",
    "    if key != '':\n",
    "        print(key)\n",
    "        sub_df = sub_df.apply(pd.to_numeric,errors='ignore')\n",
    "        grouped = pd.concat([ sub_df.groupby('类别')['金额'].agg(np.sum),\n",
    "                              sub_df.groupby('类别')['加工金额'].agg(np.sum),\n",
    "                              sub_df.groupby('类别')['装车金额'].agg(np.sum),\n",
    "                              sub_df.groupby('类别')['纸箱金额'].agg(np.sum),\n",
    "                              sub_df.groupby('类别')['总金额'].agg(np.sum)],\n",
    "                            axis = 1)\n",
    "        \n",
    "        grouped.loc[grouped.shape[0]] = grouped.sum()\n",
    "        grouped.rename(index = {grouped.shape[0]-1: '总计'}, inplace = True)\n",
    "        \n",
    "        output_filename = folder_name+'/summary_'+key+'.xlsx'\n",
    "        writer = pd.ExcelWriter(output_filename) #creates instance of an excel workboo\n",
    "        grouped.to_excel(writer,'sheet1') #creates workbook \n",
    "        writer.save() #saves workbook to file in python file directory\n",
    "    "
   ]
  },
  {
   "cell_type": "code",
   "execution_count": null,
   "metadata": {
    "collapsed": true
   },
   "outputs": [],
   "source": []
  }
 ],
 "metadata": {
  "kernelspec": {
   "display_name": "Python 3",
   "language": "python",
   "name": "python3"
  },
  "language_info": {
   "codemirror_mode": {
    "name": "ipython",
    "version": 3
   },
   "file_extension": ".py",
   "mimetype": "text/x-python",
   "name": "python",
   "nbconvert_exporter": "python",
   "pygments_lexer": "ipython3",
   "version": "3.6.3"
  }
 },
 "nbformat": 4,
 "nbformat_minor": 2
}
